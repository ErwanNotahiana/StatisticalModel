{
 "cells": [
  {
   "cell_type": "markdown",
   "id": "04ce4ec8",
   "metadata": {},
   "source": [
    "Alohan'ny mamerina dia avereno atao Run ny notebook iray manontolo. Ny fanaovana azy dia redémarrena mihitsy ny kernel aloha (jereo menubar, safidio **Kernel$\\rightarrow$Restart Kernel and Run All Cells**).\n",
    "\n",
    "Izay misy hoe `YOUR CODE HERE` na \"YOUR ANSWER HERE\" ihany no fenoina. Afaka manampy cells vaovao raha ilaina. Aza adino ny mameno references eo ambany raha ilaina."
   ]
  },
  {
   "cell_type": "markdown",
   "id": "b581bb28",
   "metadata": {},
   "source": [
    "## References\n",
    "Eto ilay references rehetra no apetraka"
   ]
  },
  {
   "cell_type": "markdown",
   "id": "9678e059",
   "metadata": {},
   "source": [
    "---https://github.com/lx10077/lasso/blob/master/project_gradient.py\n",
    "https://xavierbourretsicotte.github.io/lasso_implementation.html"
   ]
  },
  {
   "cell_type": "code",
   "execution_count": 1,
   "id": "ab42c33c",
   "metadata": {
    "deletable": false,
    "editable": false,
    "nbgrader": {
     "cell_type": "code",
     "checksum": "e1e2e40465642c4fdf199b183cad1aca",
     "grade": false,
     "grade_id": "cell-38b4529793385ad1",
     "locked": true,
     "schema_version": 3,
     "solution": false,
     "task": false
    }
   },
   "outputs": [],
   "source": [
    "from random import randrange\n",
    "import numpy as np\n",
    "from sklearn.metrics import mean_squared_error, log_loss\n",
    "from sklearn.datasets import load_breast_cancer, load_diabetes\n",
    "from sklearn.linear_model import Lasso, LinearRegression\n",
    "from sklearn.preprocessing import normalize\n",
    "\n",
    "\n",
    "def grad_check_sparse(f, x, analytic_grad, num_checks=10, h=1e-5, error=1e-9):\n",
    "    \"\"\"\n",
    "    sample a few random elements and only return numerical\n",
    "    in this dimensions\n",
    "    \"\"\"\n",
    "\n",
    "    for i in range(num_checks):\n",
    "        ix = tuple([randrange(m) for m in x.shape])\n",
    "\n",
    "        oldval = x[ix]\n",
    "        x[ix] = oldval + h  # increment by h\n",
    "        fxph = f(x)  # evaluate f(x + h)\n",
    "        x[ix] = oldval - h  # increment by h\n",
    "        fxmh = f(x)  # evaluate f(x - h)\n",
    "        x[ix] = oldval  # reset\n",
    "\n",
    "        grad_numerical = (fxph - fxmh) / (2 * h)\n",
    "        grad_analytic = analytic_grad[ix]\n",
    "        rel_error = abs(grad_numerical - grad_analytic) / (\n",
    "            abs(grad_numerical) + abs(grad_analytic)\n",
    "        )\n",
    "        print(\n",
    "            \"numerical: %f analytic: %f, relative error: %e\"\n",
    "            % (grad_numerical, grad_analytic, rel_error)\n",
    "        )\n",
    "        assert rel_error < error\n",
    "\n",
    "def rel_error(x, y):\n",
    "    \"\"\" returns relative error \"\"\"\n",
    "    return np.max(np.abs(x - y) / (np.maximum(1e-8, np.abs(x) + np.abs(y))))"
   ]
  },
  {
   "cell_type": "code",
   "execution_count": 2,
   "id": "7d7abcf9",
   "metadata": {
    "deletable": false,
    "editable": false,
    "nbgrader": {
     "cell_type": "code",
     "checksum": "fece078db4194ca23bff4bd477484c9f",
     "grade": false,
     "grade_id": "cell-2d8d2723a816a3da",
     "locked": true,
     "schema_version": 3,
     "solution": false,
     "task": false
    }
   },
   "outputs": [],
   "source": [
    "data = load_diabetes()\n",
    "X, y = data.data, data.target"
   ]
  },
  {
   "cell_type": "code",
   "execution_count": 3,
   "id": "5c6b011f",
   "metadata": {
    "deletable": false,
    "nbgrader": {
     "cell_type": "code",
     "checksum": "4a58f8c2b00062e871c025fe26fd9f14",
     "grade": false,
     "grade_id": "cell-1528a28f467d90c7",
     "locked": false,
     "schema_version": 3,
     "solution": true,
     "task": false
    }
   },
   "outputs": [],
   "source": [
    "def mse_loss_vectorized(w, b, X, y):\n",
    "    \"\"\"\n",
    "    MSE loss function WITHOUT FOR LOOPs , NO REGULARIZATION\n",
    "    \n",
    "    Returns a tuple of:\n",
    "    - loss \n",
    "    - gradient with respect to weights w\n",
    "    - gradient with respect to bias b\n",
    "    \"\"\"\n",
    "    loss = 0.0\n",
    "    dw = np.zeros_like(w)\n",
    "    \n",
    "    # YOUR CODE HERE\n",
    "    n = len(y)\n",
    "    ## we don't put regularization here \n",
    "    loss = np.transpose((X @ w + b) - y) @ ((X @ w + b) - y)/n\n",
    "    dw = 2*(np.transpose(X) @ (X @ w - y +b))/n\n",
    "    db = (2*(((X @ w) - y) + b).sum())/n\n",
    "    \n",
    "    return loss, dw, np.array(db).reshape(1,)"
   ]
  },
  {
   "cell_type": "code",
   "execution_count": 4,
   "id": "f698dab4",
   "metadata": {
    "deletable": false,
    "nbgrader": {
     "cell_type": "code",
     "checksum": "a555de4acfff6e4b6b10deedfcec8a97",
     "grade": false,
     "grade_id": "cell-0317c2a47220a71f",
     "locked": false,
     "schema_version": 3,
     "solution": true,
     "task": false
    }
   },
   "outputs": [],
   "source": [
    "def soft_threshold(x, delta):\n",
    "    # YOUR CODE HERE\n",
    "    if x - delta > 0 :\n",
    "        return x - delta\n",
    "    elif x + delta < 0 :\n",
    "        return x + delta\n",
    "    else:\n",
    "        return 0"
   ]
  },
  {
   "cell_type": "markdown",
   "id": "cfe3f35e",
   "metadata": {},
   "source": [
    "# Lasso Subgradient Descent"
   ]
  },
  {
   "cell_type": "code",
   "execution_count": 5,
   "id": "d2fdac6f",
   "metadata": {
    "deletable": false,
    "nbgrader": {
     "cell_type": "code",
     "checksum": "13377ad3c38d687f1097ea78e67e00d7",
     "grade": false,
     "grade_id": "cell-1f9c055ff5b25c0e",
     "locked": false,
     "schema_version": 3,
     "solution": true,
     "task": false
    }
   },
   "outputs": [],
   "source": [
    "def l1_subgradient(w):\n",
    "    \"\"\"\n",
    "    Subgradient of the L1 loss\n",
    "    \"\"\"\n",
    "    dw = np.zeros_like(w)\n",
    "    dw = np.sum([np.sign(i) for i in w ])\n",
    "    \n",
    "    return dw\n",
    "    \n",
    "\n",
    "def lasso_subgradient_mse_loss_vectorized(w, b, X, y, alpha):\n",
    "    \"\"\"\n",
    "    MSE loss function adding the subgradient for w\n",
    "    \"\"\"\n",
    "    loss, dw, db = mse_loss_vectorized(w, b, X, y)\n",
    "    # Add the subgradient to dw\n",
    "    dw += alpha * l1_subgradient(w)\n",
    "    \n",
    "    return loss, dw, db"
   ]
  },
  {
   "cell_type": "code",
   "execution_count": 6,
   "id": "fdfaa3d7",
   "metadata": {
    "deletable": false,
    "nbgrader": {
     "cell_type": "code",
     "checksum": "8f147544f1239cc3a8b31c9de6b9df0d",
     "grade": false,
     "grade_id": "cell-10e416072a8b14f8",
     "locked": false,
     "schema_version": 3,
     "solution": true,
     "task": false
    }
   },
   "outputs": [],
   "source": [
    "class LassolSubgradientDescent():\n",
    "    def __init__(self,  alpha=0.1):\n",
    "        self.w = None\n",
    "        self.b = None\n",
    "        self.alpha = alpha\n",
    "\n",
    "    def train(self, X, y, learning_rate=1e-3, num_iters=100, batch_size=200, verbose=False):\n",
    "        N, d = X.shape\n",
    "        \n",
    "        if self.w is None: # Initialization\n",
    "            self.w = 0.001 * np.random.randn(d)\n",
    "            self.b = 0.0\n",
    "\n",
    "        # Run stochastic gradient descent to optimize w\n",
    "        \n",
    "        loss_history = []\n",
    "        for it in range(num_iters):\n",
    "            X_batch = None\n",
    "            y_batch = None\n",
    "                                                               \n",
    "            # Sample batch_size elements in X_batch and y_batch\n",
    "            # X_batch shape is  (batch_size, d) and y_batch shape is (batch_size,)                                                                                          \n",
    "            # Hint: Use np.random.choice to generate indices\n",
    "            i = np.random.choice (N, batch_size)\n",
    "            ## building matrix X and vector y\n",
    "            X_batch = X[i, :]\n",
    "            y_batch = y[i]\n",
    "            \n",
    "            # evaluate loss and gradient\n",
    "            loss, dw, db = self.loss(X_batch, y_batch)\n",
    "\n",
    "            # perform parameter update                                                                \n",
    "            # Update the weights w using the gradient and the learning rate.  \n",
    "            self.w = self.w - learning_rate * dw\n",
    "            self.b = self.b - learning_rate * db\n",
    "            \n",
    "            if verbose and it % 10000 == 0:\n",
    "                print(\"iteration %d / %d: loss %f\" % (it, num_iters, loss))\n",
    "    \n",
    "    \n",
    "    def predict(self, X):\n",
    "        return np.dot(X, self.w) + self.b\n",
    "\n",
    "    def loss(self, X_batch, y_batch):\n",
    "        return lasso_subgradient_mse_loss_vectorized(self.w, self.b, X_batch, y_batch, self.alpha)"
   ]
  },
  {
   "cell_type": "code",
   "execution_count": 7,
   "id": "52e20f18",
   "metadata": {
    "deletable": false,
    "editable": false,
    "nbgrader": {
     "cell_type": "code",
     "checksum": "afc1e003d52538e82629ca2282c819ba",
     "grade": true,
     "grade_id": "cell-8a6c6c3fea10a22e",
     "locked": true,
     "points": 3,
     "schema_version": 3,
     "solution": false,
     "task": false
    }
   },
   "outputs": [
    {
     "name": "stdout",
     "output_type": "stream",
     "text": [
      "iteration 0 / 200000: loss 32194.630213\n",
      "iteration 10000 / 200000: loss 3406.145285\n",
      "iteration 20000 / 200000: loss 3641.027538\n",
      "iteration 30000 / 200000: loss 3262.964564\n",
      "iteration 40000 / 200000: loss 2903.784041\n",
      "iteration 50000 / 200000: loss 2796.174114\n",
      "iteration 60000 / 200000: loss 2745.275034\n",
      "iteration 70000 / 200000: loss 2792.628683\n",
      "iteration 80000 / 200000: loss 2956.126997\n",
      "iteration 90000 / 200000: loss 2676.507070\n",
      "iteration 100000 / 200000: loss 3116.362864\n",
      "iteration 110000 / 200000: loss 2959.973704\n",
      "iteration 120000 / 200000: loss 2570.398162\n",
      "iteration 130000 / 200000: loss 2570.244815\n",
      "iteration 140000 / 200000: loss 2535.985870\n",
      "iteration 150000 / 200000: loss 2691.279906\n",
      "iteration 160000 / 200000: loss 2673.714608\n",
      "iteration 170000 / 200000: loss 3210.256156\n",
      "iteration 180000 / 200000: loss 2359.187152\n",
      "iteration 190000 / 200000: loss 3430.127294\n",
      "MSE scikit-learn: 2912.521795117546\n",
      "MSE Coordinate descent model : 2881.5164692140074\n"
     ]
    }
   ],
   "source": [
    "model = LassolSubgradientDescent(alpha=0.1)\n",
    "model.train(X, y, learning_rate=1e-2,verbose=True, num_iters=200_000)\n",
    "pred = model.predict(X)\n",
    "mse = mean_squared_error(pred, y)\n",
    "\n",
    "sk_model = Lasso(alpha=0.1, fit_intercept=True)\n",
    "sk_model.fit(X, y)\n",
    "sk_pred = sk_model.predict(X)\n",
    "sk_mse = mean_squared_error(sk_pred, y)\n",
    "\n",
    "print(\"MSE scikit-learn:\", sk_mse)\n",
    "print(\"MSE Coordinate descent model :\", mse)\n",
    "assert mse - sk_mse < 50"
   ]
  },
  {
   "cell_type": "code",
   "execution_count": 8,
   "id": "2b9e02f8",
   "metadata": {
    "deletable": false,
    "editable": false,
    "nbgrader": {
     "cell_type": "code",
     "checksum": "5014aa1adfb704c0b9a8b597121bed85",
     "grade": true,
     "grade_id": "cell-67638b8b82d2ee79",
     "locked": true,
     "points": 3,
     "schema_version": 3,
     "solution": false,
     "task": false
    }
   },
   "outputs": [
    {
     "name": "stdout",
     "output_type": "stream",
     "text": [
      "iteration 0 / 200000: loss 29290.106178\n",
      "iteration 10000 / 200000: loss 3460.690006\n",
      "iteration 20000 / 200000: loss 3454.922802\n",
      "iteration 30000 / 200000: loss 2769.743136\n",
      "iteration 40000 / 200000: loss 2635.245184\n",
      "iteration 50000 / 200000: loss 2769.347402\n",
      "iteration 60000 / 200000: loss 2279.575753\n",
      "iteration 70000 / 200000: loss 2875.926954\n",
      "iteration 80000 / 200000: loss 2620.704933\n",
      "iteration 90000 / 200000: loss 2965.676871\n",
      "iteration 100000 / 200000: loss 2929.711338\n",
      "iteration 110000 / 200000: loss 2965.600097\n",
      "iteration 120000 / 200000: loss 3103.809192\n",
      "iteration 130000 / 200000: loss 2760.247116\n",
      "iteration 140000 / 200000: loss 2554.624774\n",
      "iteration 150000 / 200000: loss 3103.765484\n",
      "iteration 160000 / 200000: loss 2958.661678\n",
      "iteration 170000 / 200000: loss 3061.904776\n",
      "iteration 180000 / 200000: loss 3137.866490\n",
      "iteration 190000 / 200000: loss 3200.264530\n",
      "MSE scikit-learn: 5650.287416333697\n",
      "MSE Coordinate descent model : 2888.4419348900565\n"
     ]
    }
   ],
   "source": [
    "model = LassolSubgradientDescent(alpha=2)\n",
    "model.train(X, y, learning_rate=1e-2,verbose=True, num_iters=200_000)\n",
    "pred = model.predict(X)\n",
    "mse = mean_squared_error(pred, y)\n",
    "\n",
    "sk_model = Lasso(alpha=2, fit_intercept=True)\n",
    "sk_model.fit(X, y)\n",
    "sk_pred = sk_model.predict(X)\n",
    "sk_mse = mean_squared_error(sk_pred, y)\n",
    "\n",
    "print(\"MSE scikit-learn:\", sk_mse)\n",
    "print(\"MSE Coordinate descent model :\", mse)\n",
    "assert mse - sk_mse < 50"
   ]
  },
  {
   "cell_type": "markdown",
   "id": "cfec4298",
   "metadata": {},
   "source": [
    "# Lasso Proximal Gradient Descent (iterative soft thresholding algorithm or ISTA)"
   ]
  },
  {
   "cell_type": "code",
   "execution_count": 9,
   "id": "4ea93876",
   "metadata": {
    "deletable": false,
    "nbgrader": {
     "cell_type": "code",
     "checksum": "7b58bd5f2fe2a364683285cec3dae2e7",
     "grade": false,
     "grade_id": "cell-7a3567bcf30b2f18",
     "locked": false,
     "schema_version": 3,
     "solution": true,
     "task": false
    }
   },
   "outputs": [],
   "source": [
    "class LassoProximalGradientDescent():\n",
    "    def __init__(self,  alpha=0.1):\n",
    "        self.w = None\n",
    "        self.b = None\n",
    "        self.alpha = alpha\n",
    "\n",
    "    def train(self, X, y, learning_rate=1e-3, num_iters=100, batch_size=200, verbose=False):\n",
    "        N, d = X.shape\n",
    "        \n",
    "        if self.w is None: # Initialization\n",
    "            self.w = 0.001 * np.random.randn(d)\n",
    "            self.b = 0.0\n",
    "\n",
    "        # Run stochastic gradient descent to optimize w\n",
    "        \n",
    "        loss_history = []\n",
    "        for it in range(num_iters):\n",
    "            X_batch = None\n",
    "            y_batch = None\n",
    "                                                               \n",
    "            # Sample batch_size elements in X_batch and y_batch\n",
    "            # X_batch shape is  (batch_size, d) and y_batch shape is (batch_size,)                                                                                          \n",
    "            # Hint: Use np.random.choice to generate indices\n",
    "            i = np.random.choice (N, batch_size)\n",
    "            ## building matrix X and vector y\n",
    "            X_batch = X[i, :]\n",
    "            y_batch = y[i]\n",
    "            \n",
    "            # evaluate loss and gradient\n",
    "            loss, dw, db = self.loss(X_batch, y_batch)\n",
    "\n",
    "            # perform parameter update                                                                \n",
    "            # Update the weights w using the gradient and the learning rate.  \n",
    "            # PROJECT THE GRADIENT FOR w USING soft_threshold\n",
    "            for i in range(dw.shape[0]):\n",
    "                self.w[i] = soft_threshold(self.w[i] - learning_rate * dw[i], learning_rate * self.alpha)\n",
    "            self.b = self.b - learning_rate * db\n",
    "            \n",
    "            if verbose and it % 10000 == 0:\n",
    "                print(\"iteration %d / %d: loss %f\" % (it, num_iters, loss))\n",
    "\n",
    "    def predict(self, X):\n",
    "        return np.dot(X, self.w) + self.b\n",
    "\n",
    "    def loss(self, X_batch, y_batch):\n",
    "        return mse_loss_vectorized(self.w, self.b, X_batch, y_batch)"
   ]
  },
  {
   "cell_type": "code",
   "execution_count": 10,
   "id": "9388e722",
   "metadata": {
    "deletable": false,
    "editable": false,
    "nbgrader": {
     "cell_type": "code",
     "checksum": "bc9f465d5c28afa8d682d76852df6218",
     "grade": true,
     "grade_id": "cell-e12e8a6bae8e7b5c",
     "locked": true,
     "points": 3,
     "schema_version": 3,
     "solution": false,
     "task": false
    }
   },
   "outputs": [
    {
     "name": "stdout",
     "output_type": "stream",
     "text": [
      "iteration 0 / 200000: loss 26176.646898\n",
      "iteration 10000 / 200000: loss 3543.763488\n",
      "iteration 20000 / 200000: loss 3133.983543\n",
      "iteration 30000 / 200000: loss 3589.058392\n",
      "iteration 40000 / 200000: loss 2839.291389\n",
      "iteration 50000 / 200000: loss 2881.438408\n",
      "iteration 60000 / 200000: loss 2589.463789\n",
      "iteration 70000 / 200000: loss 3056.928897\n",
      "iteration 80000 / 200000: loss 2837.529702\n",
      "iteration 90000 / 200000: loss 2902.390264\n",
      "iteration 100000 / 200000: loss 3241.357240\n",
      "iteration 110000 / 200000: loss 3162.780850\n",
      "iteration 120000 / 200000: loss 3040.279811\n",
      "iteration 130000 / 200000: loss 3097.119286\n",
      "iteration 140000 / 200000: loss 2951.008413\n",
      "iteration 150000 / 200000: loss 2335.299645\n",
      "iteration 160000 / 200000: loss 2860.160314\n",
      "iteration 170000 / 200000: loss 2794.724481\n",
      "iteration 180000 / 200000: loss 3191.096757\n",
      "iteration 190000 / 200000: loss 2680.070098\n",
      "MSE scikit-learn: 2912.521795117546\n",
      "MSE Coordinate descent model : 2888.7374590635036\n"
     ]
    }
   ],
   "source": [
    "model = LassoProximalGradientDescent(alpha=0.1)\n",
    "model.train(X, y, learning_rate=1e-2,verbose=True, num_iters=200_000)\n",
    "pred = model.predict(X)\n",
    "mse= mean_squared_error(pred, y)\n",
    "\n",
    "sk_model = Lasso(alpha=0.1, fit_intercept=True)\n",
    "sk_model.fit(X, y)\n",
    "sk_pred = sk_model.predict(X)\n",
    "sk_mse = mean_squared_error(sk_pred, y)\n",
    "\n",
    "print(\"MSE scikit-learn:\", sk_mse)\n",
    "print(\"MSE Coordinate descent model :\", mse)\n",
    "assert mse - sk_mse < 50"
   ]
  },
  {
   "cell_type": "code",
   "execution_count": 11,
   "id": "6d7726b1",
   "metadata": {
    "deletable": false,
    "editable": false,
    "nbgrader": {
     "cell_type": "code",
     "checksum": "492b972e858ad56355406357894884a3",
     "grade": true,
     "grade_id": "cell-a25ecff481c69c72",
     "locked": true,
     "points": 3,
     "schema_version": 3,
     "solution": false,
     "task": false
    }
   },
   "outputs": [
    {
     "name": "stdout",
     "output_type": "stream",
     "text": [
      "iteration 0 / 200000: loss 30233.788824\n",
      "iteration 10000 / 200000: loss 4403.104944\n",
      "iteration 20000 / 200000: loss 4586.764681\n",
      "iteration 30000 / 200000: loss 4007.653908\n",
      "iteration 40000 / 200000: loss 4291.985922\n",
      "iteration 50000 / 200000: loss 3605.601848\n",
      "iteration 60000 / 200000: loss 3696.168961\n",
      "iteration 70000 / 200000: loss 4110.984242\n",
      "iteration 80000 / 200000: loss 4065.008901\n",
      "iteration 90000 / 200000: loss 3949.386818\n",
      "iteration 100000 / 200000: loss 3866.414453\n",
      "iteration 110000 / 200000: loss 3418.801779\n",
      "iteration 120000 / 200000: loss 4064.773149\n",
      "iteration 130000 / 200000: loss 3894.589542\n",
      "iteration 140000 / 200000: loss 3442.405646\n",
      "iteration 150000 / 200000: loss 3807.173251\n",
      "iteration 160000 / 200000: loss 4573.922115\n",
      "iteration 170000 / 200000: loss 3843.138974\n",
      "iteration 180000 / 200000: loss 3528.614825\n",
      "iteration 190000 / 200000: loss 3487.396665\n",
      "MSE scikit-learn: 5650.287416333697\n",
      "MSE Coordinate descent model : 3812.138322912674\n"
     ]
    }
   ],
   "source": [
    "model = LassoProximalGradientDescent(alpha=2)\n",
    "model.train(X, y, learning_rate=1e-2,verbose=True, num_iters=200_000)\n",
    "pred = model.predict(X)\n",
    "mse= mean_squared_error(pred, y)\n",
    "\n",
    "sk_model = Lasso(alpha=2, fit_intercept=True)\n",
    "sk_model.fit(X, y)\n",
    "sk_pred = sk_model.predict(X)\n",
    "sk_mse = mean_squared_error(sk_pred, y)\n",
    "\n",
    "print(\"MSE scikit-learn:\", sk_mse)\n",
    "print(\"MSE Coordinate descent model :\", mse)\n",
    "assert mse - sk_mse < 50"
   ]
  },
  {
   "cell_type": "markdown",
   "id": "cfcd57e0",
   "metadata": {},
   "source": [
    "# Lasso Projected Gradient Descent"
   ]
  },
  {
   "cell_type": "code",
   "execution_count": 12,
   "id": "1c0645e8",
   "metadata": {
    "deletable": false,
    "nbgrader": {
     "cell_type": "code",
     "checksum": "aa6df72eb9b273f99ec243c076780b62",
     "grade": false,
     "grade_id": "cell-f3bad6c8edcb61e4",
     "locked": false,
     "schema_version": 3,
     "solution": true,
     "task": false
    }
   },
   "outputs": [],
   "source": [
    "class LassoProjectedGradientDescent():\n",
    "    def __init__(self,  alpha=0.1):\n",
    "        self.w_p = None\n",
    "        self.w_n = None\n",
    "        self.b = None\n",
    "        self.alpha = alpha\n",
    "\n",
    "    def train(self, X, y, learning_rate=1e-3, num_iters=100, batch_size=200, verbose=False):\n",
    "        N, d = X.shape\n",
    "        \n",
    "        if self.w_p is None: # Initialization\n",
    "            self.w_p = 0.001 * np.random.randn(d)\n",
    "            self.w_n = 0.001 * np.random.randn(d)\n",
    "            self.b = 0.0\n",
    "\n",
    "        # Run stochastic gradient descent to optimize w\n",
    "        \n",
    "        loss_history = []\n",
    "        for it in range(num_iters):\n",
    "            X_batch = None\n",
    "            y_batch = None\n",
    "                                                               \n",
    "            # Sample batch_size elements in X_batch and y_batch\n",
    "            # X_batch shape is  (batch_size, d) and y_batch shape is (batch_size,)                                                                                          \n",
    "            # Hint: Use np.random.choice to generate indices\n",
    "            i = np.random.choice (N, batch_size)\n",
    "            ## building matrix X and vector y\n",
    "            X_batch = X[i, :]\n",
    "            y_batch = y[i]\n",
    "            \n",
    "            # evaluate loss and gradient\n",
    "            loss, dw, db = self.loss(X_batch, y_batch)\n",
    "\n",
    "            # perform parameter update                                                                \n",
    "            # Update the weights w using the gradient and the learning rate.  \n",
    "            # Project for w_p and w_n\n",
    "            \n",
    "            self.w_p -= learning_rate * (dw + self.alpha)\n",
    "            self.w_n -= learning_rate * (-dw + self.alpha)\n",
    "            self.w_p[self.w_p <= 0.] = 0.\n",
    "            self.w_n[self.w_n <= 0.] = 0.\n",
    "            self.b = self.b - learning_rate*db\n",
    "\n",
    "            if verbose and it % 10000 == 0:\n",
    "                print(\"iteration %d / %d: loss %f\" % (it, num_iters, loss))\n",
    "\n",
    "    def predict(self, X):\n",
    "        return np.dot(X, self.w_p - self.w_n) + self.b\n",
    "\n",
    "    def loss(self, X_batch, y_batch):\n",
    "        return mse_loss_vectorized((self.w_p - self.w_n), self.b, X_batch, y_batch)"
   ]
  },
  {
   "cell_type": "code",
   "execution_count": 13,
   "id": "40763f91",
   "metadata": {
    "deletable": false,
    "editable": false,
    "nbgrader": {
     "cell_type": "code",
     "checksum": "61b4a80e91fed67c73a22e3f23a7be0b",
     "grade": true,
     "grade_id": "cell-ab833ef2fbf36bc3",
     "locked": true,
     "points": 3,
     "schema_version": 3,
     "solution": false,
     "task": false
    }
   },
   "outputs": [
    {
     "name": "stdout",
     "output_type": "stream",
     "text": [
      "iteration 0 / 200000: loss 26792.042948\n",
      "iteration 10000 / 200000: loss 3517.719509\n",
      "iteration 20000 / 200000: loss 2860.556697\n",
      "iteration 30000 / 200000: loss 2831.803223\n",
      "iteration 40000 / 200000: loss 3037.089705\n",
      "iteration 50000 / 200000: loss 3125.155428\n",
      "iteration 60000 / 200000: loss 3142.537072\n",
      "iteration 70000 / 200000: loss 2688.109726\n",
      "iteration 80000 / 200000: loss 2986.825662\n",
      "iteration 90000 / 200000: loss 3039.440740\n",
      "iteration 100000 / 200000: loss 3408.174265\n",
      "iteration 110000 / 200000: loss 2714.012636\n",
      "iteration 120000 / 200000: loss 2893.340629\n",
      "iteration 130000 / 200000: loss 2952.892501\n",
      "iteration 140000 / 200000: loss 2622.258448\n",
      "iteration 150000 / 200000: loss 3036.095453\n",
      "iteration 160000 / 200000: loss 2673.879405\n",
      "iteration 170000 / 200000: loss 3242.664005\n",
      "iteration 180000 / 200000: loss 3112.369008\n",
      "iteration 190000 / 200000: loss 3154.646766\n",
      "MSE scikit-learn: 2912.521795117546\n",
      "MSE Coordinate descent model : 2888.8854898919344\n"
     ]
    }
   ],
   "source": [
    "model = LassoProjectedGradientDescent(alpha=0.1)\n",
    "model.train(X, y, learning_rate=1e-2,verbose=True, num_iters=200_000)\n",
    "pred = model.predict(X)\n",
    "mse= mean_squared_error(pred, y)\n",
    "\n",
    "sk_model = Lasso(alpha=0.1, fit_intercept=True)\n",
    "sk_model.fit(X, y)\n",
    "sk_pred = sk_model.predict(X)\n",
    "sk_mse = mean_squared_error(sk_pred, y)\n",
    "\n",
    "print(\"MSE scikit-learn:\", sk_mse)\n",
    "print(\"MSE Coordinate descent model :\", mse)\n",
    "assert mse - sk_mse < 50"
   ]
  },
  {
   "cell_type": "code",
   "execution_count": 14,
   "id": "ceb125d5",
   "metadata": {
    "deletable": false,
    "editable": false,
    "nbgrader": {
     "cell_type": "code",
     "checksum": "5302dfe9ed74a0adcd0f27c24ea15b6c",
     "grade": true,
     "grade_id": "cell-d4d95fe8b23988a9",
     "locked": true,
     "points": 3,
     "schema_version": 3,
     "solution": false,
     "task": false
    }
   },
   "outputs": [
    {
     "name": "stdout",
     "output_type": "stream",
     "text": [
      "iteration 0 / 200000: loss 30248.102740\n",
      "iteration 10000 / 200000: loss 4663.339717\n",
      "iteration 20000 / 200000: loss 4013.533590\n",
      "iteration 30000 / 200000: loss 4051.102263\n",
      "iteration 40000 / 200000: loss 3672.301397\n",
      "iteration 50000 / 200000: loss 3475.679146\n",
      "iteration 60000 / 200000: loss 4190.293050\n",
      "iteration 70000 / 200000: loss 3782.279509\n",
      "iteration 80000 / 200000: loss 3757.703645\n",
      "iteration 90000 / 200000: loss 3554.159927\n",
      "iteration 100000 / 200000: loss 3985.342751\n",
      "iteration 110000 / 200000: loss 3320.630785\n",
      "iteration 120000 / 200000: loss 3801.441435\n",
      "iteration 130000 / 200000: loss 3779.767082\n",
      "iteration 140000 / 200000: loss 3993.868534\n",
      "iteration 150000 / 200000: loss 3969.171923\n",
      "iteration 160000 / 200000: loss 3383.587168\n",
      "iteration 170000 / 200000: loss 3485.816860\n",
      "iteration 180000 / 200000: loss 4071.309137\n",
      "iteration 190000 / 200000: loss 3238.134366\n",
      "MSE scikit-learn: 5650.287416333697\n",
      "MSE Coordinate descent model : 3812.163086627614\n"
     ]
    }
   ],
   "source": [
    "model = LassoProjectedGradientDescent(alpha=2)\n",
    "model.train(X, y, learning_rate=1e-2,verbose=True, num_iters=200_000)\n",
    "pred = model.predict(X)\n",
    "mse= mean_squared_error(pred, y)\n",
    "\n",
    "sk_model = Lasso(alpha=2, fit_intercept=True)\n",
    "sk_model.fit(X, y)\n",
    "sk_pred = sk_model.predict(X)\n",
    "sk_mse = mean_squared_error(sk_pred, y)\n",
    "\n",
    "print(\"MSE scikit-learn:\", sk_mse)\n",
    "print(\"MSE Coordinate descent model :\", mse)\n",
    "assert mse - sk_mse < 50"
   ]
  },
  {
   "cell_type": "markdown",
   "id": "06403ea0",
   "metadata": {},
   "source": [
    "# Lasso Coordinate Descent (no intercept)"
   ]
  },
  {
   "cell_type": "code",
   "execution_count": 15,
   "id": "5039af1c",
   "metadata": {
    "deletable": false,
    "nbgrader": {
     "cell_type": "code",
     "checksum": "700961f62d0be50b4d8a56693d51d147",
     "grade": false,
     "grade_id": "cell-485e52c0efd4f4a9",
     "locked": false,
     "schema_version": 3,
     "solution": true,
     "task": false
    }
   },
   "outputs": [],
   "source": [
    "class LassoCoordinateDescent():\n",
    "    def __init__(self, alpha=0.1):\n",
    "        self.w = None\n",
    "        self.alpha = alpha\n",
    "\n",
    "    def train(self, X, y, num_iters=1000):\n",
    "        N, d = X.shape\n",
    "        \n",
    "        ## First we initialize\n",
    "        if self.w is None:\n",
    "            self.w = 0.0001 * np.random.randn(d)\n",
    "        for i in range(num_iters):\n",
    "            for j in range(d):\n",
    "                xj = X[:,j]\n",
    "                y_pred = X @ self.w \n",
    "                self.w[j] = soft_threshold(xj.T @ (y - y_pred + self.w[j] * xj),self.alpha)\n",
    "                \n",
    "    def predict(self, X): \n",
    "        return np.dot(X, self.w)"
   ]
  },
  {
   "cell_type": "code",
   "execution_count": 16,
   "id": "ccdee31b",
   "metadata": {
    "deletable": false,
    "editable": false,
    "nbgrader": {
     "cell_type": "code",
     "checksum": "980c457daa4b6be9e9ce771fa7acbb65",
     "grade": true,
     "grade_id": "cell-a773a38c72b967e8",
     "locked": true,
     "points": 3,
     "schema_version": 3,
     "solution": false,
     "task": false
    }
   },
   "outputs": [
    {
     "name": "stdout",
     "output_type": "stream",
     "text": [
      "MSE scikit-learn: 26057.118798659812\n",
      "MSE Coordinate descent model : 26004.297709341427\n"
     ]
    }
   ],
   "source": [
    "model = LassoCoordinateDescent(alpha=0.1)\n",
    "model.train(X, y)\n",
    "pred = model.predict(X)\n",
    "mse= mean_squared_error(pred, y)\n",
    "\n",
    "sk_model = Lasso(alpha=0.1, fit_intercept=False)\n",
    "sk_model.fit(X, y)\n",
    "sk_pred = sk_model.predict(X)\n",
    "sk_mse = mean_squared_error(sk_pred, y)\n",
    "\n",
    "print(\"MSE scikit-learn:\", sk_mse)\n",
    "print(\"MSE Coordinate descent model :\", mse)\n",
    "assert mse - sk_mse < 50"
   ]
  },
  {
   "cell_type": "code",
   "execution_count": 17,
   "id": "396f7431",
   "metadata": {
    "deletable": false,
    "editable": false,
    "nbgrader": {
     "cell_type": "code",
     "checksum": "af63575c6cf174f251d81ec478828cc3",
     "grade": true,
     "grade_id": "cell-df22a0ef3e94d5fe",
     "locked": true,
     "points": 3,
     "schema_version": 3,
     "solution": false,
     "task": false
    }
   },
   "outputs": [
    {
     "name": "stdout",
     "output_type": "stream",
     "text": [
      "MSE scikit-learn: 28794.88441987604\n",
      "MSE Coordinate descent model : 26006.416566913213\n"
     ]
    }
   ],
   "source": [
    "model = LassoCoordinateDescent(alpha=2)\n",
    "model.train(X, y)\n",
    "pred = model.predict(X)\n",
    "mse= mean_squared_error(pred, y)\n",
    "\n",
    "sk_model = Lasso(alpha=2, fit_intercept=False)\n",
    "sk_model.fit(X, y)\n",
    "sk_pred = sk_model.predict(X)\n",
    "sk_mse = mean_squared_error(sk_pred, y)\n",
    "\n",
    "print(\"MSE scikit-learn:\", sk_mse)\n",
    "print(\"MSE Coordinate descent model :\", mse)\n",
    "assert mse - sk_mse < 50"
   ]
  },
  {
   "cell_type": "code",
   "execution_count": null,
   "id": "90746833",
   "metadata": {},
   "outputs": [],
   "source": []
  }
 ],
 "metadata": {
  "kernelspec": {
   "display_name": "Python 3 (ipykernel)",
   "language": "python",
   "name": "python3"
  },
  "language_info": {
   "codemirror_mode": {
    "name": "ipython",
    "version": 3
   },
   "file_extension": ".py",
   "mimetype": "text/x-python",
   "name": "python",
   "nbconvert_exporter": "python",
   "pygments_lexer": "ipython3",
   "version": "3.9.13"
  }
 },
 "nbformat": 4,
 "nbformat_minor": 5
}
