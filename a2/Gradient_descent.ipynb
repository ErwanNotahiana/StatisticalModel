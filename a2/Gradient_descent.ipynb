{
 "cells": [
  {
   "cell_type": "markdown",
   "id": "39c47777",
   "metadata": {},
   "source": [
    "Alohan'ny mamerina dia avereno atao Run ny notebook iray manontolo. Ny fanaovana azy dia redémarrena mihitsy ny kernel aloha (jereo menubar, safidio **Kernel$\\rightarrow$Restart Kernel and Run All Cells**).\n",
    "\n",
    "Izay misy hoe `YOUR CODE HERE` na \"YOUR ANSWER HERE\" ihany no fenoina. Afaka manampy cells vaovao raha ilaina. Aza adino ny mameno references eo ambany raha ilaina."
   ]
  },
  {
   "cell_type": "markdown",
   "id": "c4cb62a4",
   "metadata": {},
   "source": [
    "## References\n",
    "Eto ilay references rehetra no apetraka"
   ]
  },
  {
   "cell_type": "markdown",
   "id": "08c356a8",
   "metadata": {},
   "source": [
    "---"
   ]
  },
  {
   "cell_type": "code",
   "execution_count": 1,
   "id": "ab42c33c",
   "metadata": {
    "deletable": false,
    "editable": false,
    "nbgrader": {
     "cell_type": "code",
     "checksum": "d3d3c2e2a84ff92fa02220ae689dc414",
     "grade": false,
     "grade_id": "cell-38b4529793385ad1",
     "locked": true,
     "schema_version": 3,
     "solution": false,
     "task": false
    }
   },
   "outputs": [],
   "source": [
    "from random import randrange\n",
    "import numpy as np\n",
    "from sklearn.metrics import mean_squared_error, log_loss\n",
    "from sklearn.datasets import load_breast_cancer, load_diabetes\n",
    "\n",
    "\n",
    "def grad_check_sparse(f, x, analytic_grad, num_checks=10, h=1e-5, error=1e-9):\n",
    "    \"\"\"\n",
    "    sample a few random elements and only return numerical\n",
    "    in this dimensions\n",
    "    \"\"\"\n",
    "\n",
    "    for i in range(num_checks):\n",
    "        ix = tuple([randrange(m) for m in x.shape])\n",
    "\n",
    "        oldval = x[ix]\n",
    "        x[ix] = oldval + h  # increment by h\n",
    "        fxph = f(x)  # evaluate f(x + h)\n",
    "        x[ix] = oldval - h  # increment by h\n",
    "        fxmh = f(x)  # evaluate f(x - h)\n",
    "        x[ix] = oldval  # reset\n",
    "\n",
    "        grad_numerical = (fxph - fxmh) / (2 * h)\n",
    "        grad_analytic = analytic_grad[ix]\n",
    "        rel_error = abs(grad_numerical - grad_analytic) / (\n",
    "            abs(grad_numerical) + abs(grad_analytic)\n",
    "        )\n",
    "        print(\n",
    "            \"numerical: %f analytic: %f, relative error: %e\"\n",
    "            % (grad_numerical, grad_analytic, rel_error)\n",
    "        )\n",
    "        assert rel_error < error\n",
    "\n",
    "def rel_error(x, y):\n",
    "    \"\"\" returns relative error \"\"\"\n",
    "    return np.max(np.abs(x - y) / (np.maximum(1e-8, np.abs(x) + np.abs(y))))"
   ]
  },
  {
   "cell_type": "markdown",
   "id": "cfec4298",
   "metadata": {},
   "source": [
    "# Linear regression"
   ]
  },
  {
   "cell_type": "code",
   "execution_count": 2,
   "id": "731a18bc",
   "metadata": {
    "deletable": false,
    "editable": false,
    "nbgrader": {
     "cell_type": "code",
     "checksum": "1159b5dc8c59570993ac39ae349c5037",
     "grade": false,
     "grade_id": "cell-3fb8ebd5eb97e246",
     "locked": true,
     "schema_version": 3,
     "solution": false,
     "task": false
    }
   },
   "outputs": [],
   "source": [
    "data = load_diabetes()\n",
    "X_train1, y_train1 = data.data, data.target\n",
    "w1 = np.random.randn(X_train1.shape[1]) * 0.0001\n",
    "b1 = np.random.randn(1) * 0.0001"
   ]
  },
  {
   "cell_type": "code",
   "execution_count": 3,
   "id": "f07dea71",
   "metadata": {
    "deletable": false,
    "nbgrader": {
     "cell_type": "code",
     "checksum": "baf9b75ec047c1cdb887ecb2bc2043a1",
     "grade": false,
     "grade_id": "cell-5ffdf99ad7cdfd69",
     "locked": false,
     "schema_version": 3,
     "solution": true,
     "task": false
    }
   },
   "outputs": [],
   "source": [
    "def mse_loss_naive(w, b, X, y, alpha=0):\n",
    "    \"\"\"\n",
    "    MSE loss function WITH FOR LOOPs\n",
    "    \n",
    "    Returns a tuple of:\n",
    "    - loss \n",
    "    - gradient with respect to weights w\n",
    "    - gradient with respect to bias b\n",
    "    \"\"\"\n",
    "    loss = 0.0\n",
    "    dw = np.zeros_like(w)\n",
    "    db = 0.0\n",
    "    \n",
    "    n = len(X)\n",
    "    for i in range(0, n) : \n",
    "        loss += ((y[i] - w@X[i] - b)**2)/n \n",
    "        dw += -2.0*(X[i]*(y[i] - w@X[i] - b))/n\n",
    "        db += -2.0*(y[i] - w@X[i] - b)/n\n",
    "    \n",
    "    ## we know just add the regularisation\n",
    "    loss += alpha * (np.linalg.norm(w, 2))**2\n",
    "    dw += alpha * 2.0 * w\n",
    "    \n",
    "    return loss, dw, np.array(db).reshape(1,)"
   ]
  },
  {
   "cell_type": "markdown",
   "id": "bddacc5d",
   "metadata": {},
   "source": [
    "## Naive Linear regression loss"
   ]
  },
  {
   "cell_type": "code",
   "execution_count": 4,
   "id": "86cdcedc",
   "metadata": {
    "deletable": false,
    "editable": false,
    "nbgrader": {
     "cell_type": "code",
     "checksum": "c67f4964c919b07a15b9ca06dc2e8b1f",
     "grade": true,
     "grade_id": "cell-079e42b153b67a60",
     "locked": true,
     "points": 1,
     "schema_version": 3,
     "solution": false,
     "task": false
    }
   },
   "outputs": [
    {
     "name": "stdout",
     "output_type": "stream",
     "text": [
      "Loss error :  1.8768922252608535e-16\n",
      "Gradient check w\n",
      "numerical: -1.553187 analytic: -1.553187, relative error: 1.488043e-07\n",
      "numerical: -1.275043 analytic: -1.275042, relative error: 7.413576e-08\n",
      "numerical: -1.275043 analytic: -1.275042, relative error: 7.413576e-08\n",
      "numerical: -1.376393 analytic: -1.376394, relative error: 1.275297e-07\n",
      "numerical: -3.234125 analytic: -3.234125, relative error: 9.961176e-09\n",
      "numerical: -1.553187 analytic: -1.553187, relative error: 1.488043e-07\n",
      "numerical: -1.553187 analytic: -1.553187, relative error: 1.488043e-07\n",
      "numerical: -1.376393 analytic: -1.376394, relative error: 1.275297e-07\n",
      "numerical: -1.275043 analytic: -1.275042, relative error: 7.413576e-08\n",
      "numerical: -0.315452 analytic: -0.315454, relative error: 1.905481e-06\n",
      "numerical: -3.234125 analytic: -3.234125, relative error: 9.961176e-09\n",
      "numerical: 2.892059 analytic: 2.892060, relative error: 1.975422e-07\n",
      "numerical: -1.553187 analytic: -1.553187, relative error: 1.488043e-07\n",
      "numerical: -3.153317 analytic: -3.153316, relative error: 1.742574e-07\n",
      "numerical: 2.892059 analytic: 2.892060, relative error: 1.975422e-07\n",
      "Gradient check bias\n",
      "numerical: -304.267017 analytic: -304.267018, relative error: 8.747078e-10\n",
      "numerical: -304.267017 analytic: -304.267018, relative error: 8.747078e-10\n",
      "numerical: -304.267017 analytic: -304.267018, relative error: 8.747078e-10\n",
      "numerical: -304.267017 analytic: -304.267018, relative error: 8.747078e-10\n",
      "numerical: -304.267017 analytic: -304.267018, relative error: 8.747078e-10\n",
      "numerical: -304.267017 analytic: -304.267018, relative error: 8.747078e-10\n",
      "numerical: -304.267017 analytic: -304.267018, relative error: 8.747078e-10\n",
      "numerical: -304.267017 analytic: -304.267018, relative error: 8.747078e-10\n",
      "numerical: -304.267017 analytic: -304.267018, relative error: 8.747078e-10\n",
      "numerical: -304.267017 analytic: -304.267018, relative error: 8.747078e-10\n",
      "numerical: -304.267017 analytic: -304.267018, relative error: 8.747078e-10\n",
      "numerical: -304.267017 analytic: -304.267018, relative error: 8.747078e-10\n",
      "numerical: -304.267017 analytic: -304.267018, relative error: 8.747078e-10\n",
      "numerical: -304.267017 analytic: -304.267018, relative error: 8.747078e-10\n",
      "numerical: -304.267017 analytic: -304.267018, relative error: 8.747078e-10\n"
     ]
    }
   ],
   "source": [
    "loss, dw1, db1 = mse_loss_naive(w1, b1, X_train1, y_train1, alpha=0)\n",
    "\n",
    "sk_loss = mean_squared_error(X_train1 @ w1 + b1, y_train1)\n",
    "print(\"Loss error : \",rel_error(loss, sk_loss))\n",
    "assert rel_error(loss, sk_loss) < 1e-9\n",
    "\n",
    "print(\"Gradient check w\")\n",
    "# Check with numerical gradient w\n",
    "f = lambda w1: mse_loss_naive(w1, b1, X_train1, y_train1, alpha=0)[0]\n",
    "grad_numerical = grad_check_sparse(f, w1, dw1, 15,  error=1e-5)\n",
    "\n",
    "print(\"Gradient check bias\")\n",
    "# Check with numerical gradient b\n",
    "f2 = lambda b1: mse_loss_naive(w1, b1, X_train1, y_train1, alpha=0)[0]\n",
    "grad_numerical = grad_check_sparse(f2, b1, db1, 15,  error=1e-5)"
   ]
  },
  {
   "cell_type": "markdown",
   "id": "db438d3f",
   "metadata": {},
   "source": [
    "## Naive Ridge regression loss"
   ]
  },
  {
   "cell_type": "code",
   "execution_count": 5,
   "id": "36465817",
   "metadata": {
    "deletable": false,
    "editable": false,
    "nbgrader": {
     "cell_type": "code",
     "checksum": "9ca5790893e5950341f7370bb3be167c",
     "grade": true,
     "grade_id": "cell-14a64cb1cfe70b98",
     "locked": true,
     "points": 1,
     "schema_version": 3,
     "solution": false,
     "task": false
    }
   },
   "outputs": [
    {
     "name": "stdout",
     "output_type": "stream",
     "text": [
      "Gradient check w\n",
      "numerical: -4.145212 analytic: -4.145212, relative error: 3.211555e-08\n",
      "numerical: -1.552932 analytic: -1.552931, relative error: 1.092921e-07\n",
      "numerical: -1.552932 analytic: -1.552931, relative error: 1.092921e-07\n",
      "numerical: -1.274897 analytic: -1.274897, relative error: 8.062249e-08\n",
      "numerical: -0.315235 analytic: -0.315236, relative error: 1.889370e-06\n",
      "numerical: -0.315235 analytic: -0.315236, relative error: 1.889370e-06\n",
      "numerical: 2.892027 analytic: 2.892028, relative error: 2.053562e-07\n",
      "numerical: -1.376433 analytic: -1.376433, relative error: 1.471336e-07\n",
      "numerical: -1.552932 analytic: -1.552931, relative error: 1.092921e-07\n",
      "numerical: -1.274897 analytic: -1.274897, relative error: 8.062249e-08\n",
      "numerical: 2.892027 analytic: 2.892028, relative error: 2.053562e-07\n",
      "numerical: 2.892027 analytic: 2.892028, relative error: 2.053562e-07\n",
      "numerical: -0.315235 analytic: -0.315236, relative error: 1.889370e-06\n",
      "numerical: -4.295941 analytic: -4.295940, relative error: 1.814921e-07\n",
      "numerical: -1.274897 analytic: -1.274897, relative error: 8.062249e-08\n",
      "Gradient check bias\n",
      "numerical: -304.267017 analytic: -304.267018, relative error: 8.747078e-10\n",
      "numerical: -304.267017 analytic: -304.267018, relative error: 8.747078e-10\n",
      "numerical: -304.267017 analytic: -304.267018, relative error: 8.747078e-10\n",
      "numerical: -304.267017 analytic: -304.267018, relative error: 8.747078e-10\n",
      "numerical: -304.267017 analytic: -304.267018, relative error: 8.747078e-10\n",
      "numerical: -304.267017 analytic: -304.267018, relative error: 8.747078e-10\n",
      "numerical: -304.267017 analytic: -304.267018, relative error: 8.747078e-10\n",
      "numerical: -304.267017 analytic: -304.267018, relative error: 8.747078e-10\n",
      "numerical: -304.267017 analytic: -304.267018, relative error: 8.747078e-10\n",
      "numerical: -304.267017 analytic: -304.267018, relative error: 8.747078e-10\n",
      "numerical: -304.267017 analytic: -304.267018, relative error: 8.747078e-10\n",
      "numerical: -304.267017 analytic: -304.267018, relative error: 8.747078e-10\n",
      "numerical: -304.267017 analytic: -304.267018, relative error: 8.747078e-10\n",
      "numerical: -304.267017 analytic: -304.267018, relative error: 8.747078e-10\n",
      "numerical: -304.267017 analytic: -304.267018, relative error: 8.747078e-10\n"
     ]
    }
   ],
   "source": [
    "loss, dw1, db1 = mse_loss_naive(w1, b1, X_train1, y_train1, alpha=1)\n",
    "\n",
    "print(\"Gradient check w\")\n",
    "# Check with numerical gradient w\n",
    "f = lambda w1: mse_loss_naive(w1, b1, X_train1, y_train1, alpha=1)[0]\n",
    "grad_numerical = grad_check_sparse(f, w1, dw1, 15,  error=1e-5)\n",
    "\n",
    "print(\"Gradient check bias\")\n",
    "# Check with numerical gradient b\n",
    "f2 = lambda b1: mse_loss_naive(w1, b1, X_train1, y_train1, alpha=1)[0]\n",
    "grad_numerical = grad_check_sparse(f2, b1, db1, 15,  error=1e-5)"
   ]
  },
  {
   "cell_type": "code",
   "execution_count": 6,
   "id": "5c6b011f",
   "metadata": {
    "deletable": false,
    "nbgrader": {
     "cell_type": "code",
     "checksum": "21b3a09270262dbad9cb1c15c0fc69f8",
     "grade": false,
     "grade_id": "cell-1528a28f467d90c7",
     "locked": false,
     "schema_version": 3,
     "solution": true,
     "task": false
    }
   },
   "outputs": [],
   "source": [
    "def mse_loss_vectorized(w, b, X, y, alpha=0):\n",
    "    \"\"\"\n",
    "    MSE loss function WITHOUT FOR LOOPs\n",
    "    \n",
    "    Returns a tuple of:\n",
    "    - loss \n",
    "    - gradient with respect to weights w\n",
    "    - gradient with respect to bias b\n",
    "    \"\"\"\n",
    "    loss = 0.0\n",
    "    dw = np.zeros_like(w)\n",
    "    db = 0.0\n",
    "    \n",
    "    n = len(X)\n",
    "    \n",
    "    loss = (np.transpose(y - X@w - b) @ (y - X@w - b))/n + alpha * (np.linalg.norm(w, 2))**2\n",
    "    dw = (-2.0 * (np.transpose(X) @ (y - X@w - b)))/n + 2.0 * alpha * w\n",
    "    db = -2.0 * (y - X@w - b)/n\n",
    "    \n",
    "    ## We want to return a nuber, which is the sum of all the content of our list bd\n",
    "    db = sum(db)\n",
    "    \n",
    "    return loss, dw, np.array(db).reshape(1,)"
   ]
  },
  {
   "cell_type": "markdown",
   "id": "1d9bff00",
   "metadata": {},
   "source": [
    "## Vectorised Linear regression loss"
   ]
  },
  {
   "cell_type": "code",
   "execution_count": 7,
   "id": "05dd3b4d",
   "metadata": {
    "deletable": false,
    "editable": false,
    "nbgrader": {
     "cell_type": "code",
     "checksum": "76d06d37e089b9fdf2c7ca7fa3241a61",
     "grade": true,
     "grade_id": "cell-41637ca21c8f938d",
     "locked": true,
     "points": 1,
     "schema_version": 3,
     "solution": false,
     "task": false
    }
   },
   "outputs": [
    {
     "name": "stdout",
     "output_type": "stream",
     "text": [
      "Loss error :  0.0\n",
      "Gradient check w\n",
      "numerical: -1.275042 analytic: -1.275042, relative error: 2.805219e-09\n",
      "numerical: -0.315454 analytic: -0.315454, relative error: 1.127156e-07\n",
      "numerical: -2.801912 analytic: -2.801913, relative error: 6.651804e-08\n",
      "numerical: -3.153316 analytic: -3.153316, relative error: 2.763992e-08\n",
      "numerical: -2.801912 analytic: -2.801913, relative error: 6.651804e-08\n",
      "numerical: -4.145423 analytic: -4.145423, relative error: 8.836474e-09\n",
      "numerical: -2.801912 analytic: -2.801913, relative error: 6.651804e-08\n",
      "numerical: -1.376394 analytic: -1.376394, relative error: 4.626485e-09\n",
      "numerical: -4.296087 analytic: -4.296087, relative error: 2.480153e-08\n",
      "numerical: -0.315454 analytic: -0.315454, relative error: 1.127156e-07\n",
      "numerical: -1.553187 analytic: -1.553187, relative error: 3.169090e-08\n",
      "numerical: -4.145423 analytic: -4.145423, relative error: 8.836474e-09\n",
      "numerical: -3.234125 analytic: -3.234125, relative error: 9.961176e-09\n",
      "numerical: -1.376394 analytic: -1.376394, relative error: 4.626485e-09\n",
      "numerical: -1.376394 analytic: -1.376394, relative error: 4.626485e-09\n",
      "Gradient check bias\n",
      "numerical: -304.267018 analytic: -304.267018, relative error: 2.768811e-10\n",
      "numerical: -304.267018 analytic: -304.267018, relative error: 2.768811e-10\n",
      "numerical: -304.267018 analytic: -304.267018, relative error: 2.768811e-10\n",
      "numerical: -304.267018 analytic: -304.267018, relative error: 2.768811e-10\n",
      "numerical: -304.267018 analytic: -304.267018, relative error: 2.768811e-10\n",
      "numerical: -304.267018 analytic: -304.267018, relative error: 2.768811e-10\n",
      "numerical: -304.267018 analytic: -304.267018, relative error: 2.768811e-10\n",
      "numerical: -304.267018 analytic: -304.267018, relative error: 2.768811e-10\n",
      "numerical: -304.267018 analytic: -304.267018, relative error: 2.768811e-10\n",
      "numerical: -304.267018 analytic: -304.267018, relative error: 2.768811e-10\n",
      "numerical: -304.267018 analytic: -304.267018, relative error: 2.768811e-10\n",
      "numerical: -304.267018 analytic: -304.267018, relative error: 2.768811e-10\n",
      "numerical: -304.267018 analytic: -304.267018, relative error: 2.768811e-10\n",
      "numerical: -304.267018 analytic: -304.267018, relative error: 2.768811e-10\n",
      "numerical: -304.267018 analytic: -304.267018, relative error: 2.768811e-10\n"
     ]
    }
   ],
   "source": [
    "loss, dw1, db1 = mse_loss_vectorized(w1, b1, X_train1, y_train1, alpha=0)\n",
    "\n",
    "sk_loss = mean_squared_error(X_train1 @ w1 + b1, y_train1)\n",
    "print(\"Loss error : \",rel_error(loss, sk_loss))\n",
    "assert rel_error(loss, sk_loss) < 1e-9\n",
    "\n",
    "print(\"Gradient check w\")\n",
    "# Check with numerical gradient w\n",
    "f = lambda w1: mse_loss_vectorized(w1, b1, X_train1, y_train1, alpha=0)[0]\n",
    "grad_numerical = grad_check_sparse(f, w1, dw1, 15,  error=1e-5)\n",
    "\n",
    "print(\"Gradient check bias\")\n",
    "# Check with numerical gradient b\n",
    "f2 = lambda b1: mse_loss_vectorized(w1, b1, X_train1, y_train1, alpha=0)[0]\n",
    "grad_numerical = grad_check_sparse(f2, b1, db1, 15,  error=1e-5)"
   ]
  },
  {
   "cell_type": "markdown",
   "id": "27c8575f",
   "metadata": {},
   "source": [
    "## Vectorized ridge regression loss"
   ]
  },
  {
   "cell_type": "code",
   "execution_count": 8,
   "id": "6aa107f7",
   "metadata": {
    "deletable": false,
    "editable": false,
    "nbgrader": {
     "cell_type": "code",
     "checksum": "89b351bee282f05c3f74c9541b3a825e",
     "grade": true,
     "grade_id": "cell-bb0ff99c19a85e0f",
     "locked": true,
     "points": 1,
     "schema_version": 3,
     "solution": false,
     "task": false
    }
   },
   "outputs": [
    {
     "name": "stdout",
     "output_type": "stream",
     "text": [
      "Gradient check w\n",
      "numerical: -1.552931 analytic: -1.552931, relative error: 7.840469e-09\n",
      "numerical: -0.315236 analytic: -0.315236, relative error: 1.302202e-07\n",
      "numerical: -3.234494 analytic: -3.234494, relative error: 8.968587e-09\n",
      "numerical: -3.153407 analytic: -3.153407, relative error: 1.954253e-08\n",
      "numerical: -4.145212 analytic: -4.145212, relative error: 1.176615e-08\n",
      "numerical: -2.801751 analytic: -2.801752, relative error: 6.392256e-08\n",
      "numerical: 2.892028 analytic: 2.892028, relative error: 1.666610e-08\n",
      "numerical: -3.234494 analytic: -3.234494, relative error: 8.968587e-09\n",
      "numerical: -3.234494 analytic: -3.234494, relative error: 8.968587e-09\n",
      "numerical: -3.153407 analytic: -3.153407, relative error: 1.954253e-08\n",
      "numerical: -2.801751 analytic: -2.801752, relative error: 6.392256e-08\n",
      "numerical: -1.376433 analytic: -1.376433, relative error: 1.498111e-08\n",
      "numerical: -2.801751 analytic: -2.801752, relative error: 6.392256e-08\n",
      "numerical: -0.315236 analytic: -0.315236, relative error: 1.302202e-07\n",
      "numerical: 2.892028 analytic: 2.892028, relative error: 1.666610e-08\n",
      "Gradient check bias\n",
      "numerical: -304.267018 analytic: -304.267018, relative error: 2.768811e-10\n",
      "numerical: -304.267018 analytic: -304.267018, relative error: 2.768811e-10\n",
      "numerical: -304.267018 analytic: -304.267018, relative error: 2.768811e-10\n",
      "numerical: -304.267018 analytic: -304.267018, relative error: 2.768811e-10\n",
      "numerical: -304.267018 analytic: -304.267018, relative error: 2.768811e-10\n",
      "numerical: -304.267018 analytic: -304.267018, relative error: 2.768811e-10\n",
      "numerical: -304.267018 analytic: -304.267018, relative error: 2.768811e-10\n",
      "numerical: -304.267018 analytic: -304.267018, relative error: 2.768811e-10\n",
      "numerical: -304.267018 analytic: -304.267018, relative error: 2.768811e-10\n",
      "numerical: -304.267018 analytic: -304.267018, relative error: 2.768811e-10\n",
      "numerical: -304.267018 analytic: -304.267018, relative error: 2.768811e-10\n",
      "numerical: -304.267018 analytic: -304.267018, relative error: 2.768811e-10\n",
      "numerical: -304.267018 analytic: -304.267018, relative error: 2.768811e-10\n",
      "numerical: -304.267018 analytic: -304.267018, relative error: 2.768811e-10\n",
      "numerical: -304.267018 analytic: -304.267018, relative error: 2.768811e-10\n"
     ]
    }
   ],
   "source": [
    "loss, dw1, db1 = mse_loss_vectorized(w1, b1, X_train1, y_train1, alpha=1)\n",
    "\n",
    "print(\"Gradient check w\")\n",
    "# Check with numerical gradient w\n",
    "f = lambda w1: mse_loss_vectorized(w1, b1, X_train1, y_train1, alpha=1)[0]\n",
    "grad_numerical = grad_check_sparse(f, w1, dw1, 15,  error=1e-5)\n",
    "\n",
    "print(\"Gradient check bias\")\n",
    "# Check with numerical gradient b\n",
    "f2 = lambda b1: mse_loss_vectorized(w1, b1, X_train1, y_train1, alpha=1)[0]\n",
    "grad_numerical = grad_check_sparse(f2, b1, db1, 15,  error=1e-5)"
   ]
  },
  {
   "cell_type": "markdown",
   "id": "c3c7ae33",
   "metadata": {},
   "source": [
    "# Logistic regression"
   ]
  },
  {
   "cell_type": "code",
   "execution_count": 9,
   "id": "bb6d1eb4",
   "metadata": {
    "deletable": false,
    "editable": false,
    "nbgrader": {
     "cell_type": "code",
     "checksum": "fd86b658f3ec113c00c2ee2e195f550f",
     "grade": false,
     "grade_id": "cell-434ec399cf8aeea7",
     "locked": true,
     "schema_version": 3,
     "solution": false,
     "task": false
    }
   },
   "outputs": [],
   "source": [
    "def sigmoid(z):\n",
    "    return 1 / (1 + np.exp(-z))\n",
    "\n",
    "data = load_breast_cancer()\n",
    "X_train2, y_train2 = data.data, data.target\n",
    "w2 = np.random.randn(X_train2.shape[1]) * 0.0001\n",
    "b2 = np.random.randn(1) * 0.0001"
   ]
  },
  {
   "cell_type": "markdown",
   "id": "d97e5d16",
   "metadata": {},
   "source": [
    "# Naive"
   ]
  },
  {
   "cell_type": "code",
   "execution_count": 10,
   "id": "4690c331",
   "metadata": {
    "deletable": false,
    "nbgrader": {
     "cell_type": "code",
     "checksum": "a4357b941a04e6dc51a2683b7f4d91ed",
     "grade": false,
     "grade_id": "cell-6ec156568b0c6e29",
     "locked": false,
     "schema_version": 3,
     "solution": true,
     "task": false
    }
   },
   "outputs": [],
   "source": [
    "def log_loss_naive(w, b, X, y, alpha=0):\n",
    "    \"\"\"\n",
    "    log loss function WITH FOR LOOPs\n",
    "    \n",
    "    Returns a tuple of:\n",
    "    - loss \n",
    "    - gradient with respect to weights w\n",
    "    \"\"\"\n",
    "    loss = 0.0\n",
    "    dw = np.zeros_like(w)\n",
    "    db = 0.0\n",
    "    \n",
    "    ## We try to minimize the NLL\n",
    "    n = X.shape[0]\n",
    "    for i in range(0, n) :\n",
    "        loss += -(y[i]*np.log(sigmoid((w.T)@X[i] +b)) + (1 - y[i]) * np.log(1 - sigmoid((w.T)@X[i] +b)))/n\n",
    "        ## now we have €(y - ŷ)/n, ŷ is our estimator. This is what we will derivate\n",
    "        dw += -1.0 * X[i] * (y[i] - sigmoid(w.T@X[i] + b))/n\n",
    "        ## derivate p/r b\n",
    "        db += -1.0 * (y[i] - sigmoid(w.T@X[i] +b))/n\n",
    "        \n",
    "    ## we know just add the regularisation\n",
    "    loss += alpha * (np.linalg.norm(w, 2))**2\n",
    "    dw += alpha * 2.0 * w\n",
    "    \n",
    "    return loss, dw, np.array(db).reshape(1,)"
   ]
  },
  {
   "cell_type": "code",
   "execution_count": 11,
   "id": "f54b1bca",
   "metadata": {
    "deletable": false,
    "editable": false,
    "nbgrader": {
     "cell_type": "code",
     "checksum": "70d2045a5dac4c5a041dc8595cd5a39f",
     "grade": true,
     "grade_id": "cell-d3c078eb2449ee61",
     "locked": true,
     "points": 1,
     "schema_version": 3,
     "solution": false,
     "task": false
    }
   },
   "outputs": [
    {
     "name": "stdout",
     "output_type": "stream",
     "text": [
      "Loss error :  8.086847907453055e-17\n",
      "Gradient check w\n",
      "numerical: 67.588416 analytic: 67.587746, relative error: 4.957629e-06\n",
      "numerical: 0.025747 analytic: 0.025747, relative error: 2.976319e-10\n",
      "numerical: -0.177988 analytic: -0.177988, relative error: 1.170945e-10\n",
      "numerical: -0.177988 analytic: -0.177988, relative error: 1.170945e-10\n",
      "numerical: 21.522550 analytic: 21.522355, relative error: 4.533852e-06\n",
      "numerical: 0.007094 analytic: 0.007094, relative error: 1.826377e-09\n",
      "numerical: -0.002993 analytic: -0.002993, relative error: 4.804952e-09\n",
      "numerical: -0.177988 analytic: -0.177988, relative error: 1.170945e-10\n",
      "numerical: -0.009121 analytic: -0.009121, relative error: 2.538396e-09\n",
      "numerical: 0.008023 analytic: 0.008023, relative error: 2.816544e-09\n",
      "numerical: -0.029713 analytic: -0.029713, relative error: 4.696918e-10\n",
      "numerical: -0.000211 analytic: -0.000211, relative error: 3.300817e-09\n",
      "numerical: 5.766730 analytic: 5.766730, relative error: 3.701303e-08\n",
      "numerical: 0.008023 analytic: 0.008023, relative error: 2.816544e-09\n",
      "numerical: 67.588416 analytic: 67.587746, relative error: 4.957629e-06\n",
      "Gradient check bias\n",
      "numerical: -0.144896 analytic: -0.144896, relative error: 9.360536e-11\n",
      "numerical: -0.144896 analytic: -0.144896, relative error: 9.360536e-11\n",
      "numerical: -0.144896 analytic: -0.144896, relative error: 9.360536e-11\n",
      "numerical: -0.144896 analytic: -0.144896, relative error: 9.360536e-11\n",
      "numerical: -0.144896 analytic: -0.144896, relative error: 9.360536e-11\n",
      "numerical: -0.144896 analytic: -0.144896, relative error: 9.360536e-11\n",
      "numerical: -0.144896 analytic: -0.144896, relative error: 9.360536e-11\n",
      "numerical: -0.144896 analytic: -0.144896, relative error: 9.360536e-11\n",
      "numerical: -0.144896 analytic: -0.144896, relative error: 9.360536e-11\n",
      "numerical: -0.144896 analytic: -0.144896, relative error: 9.360536e-11\n",
      "numerical: -0.144896 analytic: -0.144896, relative error: 9.360536e-11\n",
      "numerical: -0.144896 analytic: -0.144896, relative error: 9.360536e-11\n",
      "numerical: -0.144896 analytic: -0.144896, relative error: 9.360536e-11\n",
      "numerical: -0.144896 analytic: -0.144896, relative error: 9.360536e-11\n",
      "numerical: -0.144896 analytic: -0.144896, relative error: 9.360536e-11\n"
     ]
    }
   ],
   "source": [
    "y_pred_0 = sigmoid(X_train2 @ w2 + b2)\n",
    "y_pred = np.vstack([1-y_pred_0, y_pred_0]).T\n",
    "sk_loss = log_loss(y_train2, y_pred)\n",
    "\n",
    "loss, dw2, db2 = log_loss_naive(w2, b2, X_train2, y_train2, alpha=0)\n",
    "print(\"Loss error : \",rel_error(loss, sk_loss))\n",
    "assert rel_error(loss, sk_loss) < 1e-9\n",
    "\n",
    "print(\"Gradient check w\")\n",
    "# Check with numerical gradient w\n",
    "f = lambda w2: log_loss_naive(w2, b2, X_train2, y_train2, alpha=0)[0]\n",
    "grad_numerical = grad_check_sparse(f, w2, dw2, 15, error=1e-4)\n",
    "\n",
    "print(\"Gradient check bias\")\n",
    "# Check with numerical gradient b\n",
    "f2 = lambda b2: log_loss_naive(w2, b2, X_train2, y_train2, alpha=0)[0]\n",
    "grad_numerical = grad_check_sparse(f2, b2, db2, 15,  error=1e-5)"
   ]
  },
  {
   "cell_type": "markdown",
   "id": "5e1e8516",
   "metadata": {},
   "source": [
    "# Naive with regulariztion"
   ]
  },
  {
   "cell_type": "code",
   "execution_count": 12,
   "id": "79f6f9a6",
   "metadata": {
    "deletable": false,
    "editable": false,
    "nbgrader": {
     "cell_type": "code",
     "checksum": "cb3c9584e2ca3502e5068d5c1ee2df96",
     "grade": true,
     "grade_id": "cell-b91805308ad91ec5",
     "locked": true,
     "points": 1,
     "schema_version": 3,
     "solution": false,
     "task": false
    }
   },
   "outputs": [
    {
     "name": "stdout",
     "output_type": "stream",
     "text": [
      "Gradient check w\n",
      "numerical: -0.844428 analytic: -0.844428, relative error: 4.408092e-10\n",
      "numerical: 0.013208 analytic: 0.013208, relative error: 3.114761e-09\n",
      "numerical: 21.522391 analytic: 21.522196, relative error: 4.533886e-06\n",
      "numerical: 0.007790 analytic: 0.007790, relative error: 2.848646e-09\n",
      "numerical: -0.029954 analytic: -0.029954, relative error: 4.247832e-10\n",
      "numerical: 0.015271 analytic: 0.015271, relative error: 1.391651e-09\n",
      "numerical: -0.001385 analytic: -0.001385, relative error: 1.107685e-08\n",
      "numerical: 67.588324 analytic: 67.587653, relative error: 4.957635e-06\n",
      "numerical: 0.015271 analytic: 0.015271, relative error: 1.391651e-09\n",
      "numerical: -0.029954 analytic: -0.029954, relative error: 4.247832e-10\n",
      "numerical: -0.001385 analytic: -0.001385, relative error: 1.107685e-08\n",
      "numerical: 0.015271 analytic: 0.015271, relative error: 1.391651e-09\n",
      "numerical: -0.001042 analytic: -0.001042, relative error: 6.312327e-09\n",
      "numerical: 0.007383 analytic: 0.007383, relative error: 1.961315e-09\n",
      "numerical: 0.110301 analytic: 0.110301, relative error: 1.713404e-10\n",
      "Gradient check bias\n",
      "numerical: -0.144896 analytic: -0.144896, relative error: 9.360536e-11\n",
      "numerical: -0.144896 analytic: -0.144896, relative error: 9.360536e-11\n",
      "numerical: -0.144896 analytic: -0.144896, relative error: 9.360536e-11\n",
      "numerical: -0.144896 analytic: -0.144896, relative error: 9.360536e-11\n",
      "numerical: -0.144896 analytic: -0.144896, relative error: 9.360536e-11\n",
      "numerical: -0.144896 analytic: -0.144896, relative error: 9.360536e-11\n",
      "numerical: -0.144896 analytic: -0.144896, relative error: 9.360536e-11\n",
      "numerical: -0.144896 analytic: -0.144896, relative error: 9.360536e-11\n",
      "numerical: -0.144896 analytic: -0.144896, relative error: 9.360536e-11\n",
      "numerical: -0.144896 analytic: -0.144896, relative error: 9.360536e-11\n",
      "numerical: -0.144896 analytic: -0.144896, relative error: 9.360536e-11\n",
      "numerical: -0.144896 analytic: -0.144896, relative error: 9.360536e-11\n",
      "numerical: -0.144896 analytic: -0.144896, relative error: 9.360536e-11\n",
      "numerical: -0.144896 analytic: -0.144896, relative error: 9.360536e-11\n",
      "numerical: -0.144896 analytic: -0.144896, relative error: 9.360536e-11\n"
     ]
    }
   ],
   "source": [
    "loss, dw2, db2 = log_loss_naive(w2, b2, X_train2, y_train2, alpha=1)\n",
    "\n",
    "print(\"Gradient check w\")\n",
    "# Check with numerical gradient w\n",
    "f = lambda w2: log_loss_naive(w2, b2, X_train2, y_train2, alpha=1)[0]\n",
    "grad_numerical = grad_check_sparse(f, w2, dw2, 15, error=1e-4)\n",
    "\n",
    "print(\"Gradient check bias\")\n",
    "# Check with numerical gradient b\n",
    "f2 = lambda b2: log_loss_naive(w2, b2, X_train2, y_train2, alpha=1)[0]\n",
    "grad_numerical = grad_check_sparse(f2, b2, db2, 15,  error=1e-5)"
   ]
  },
  {
   "cell_type": "markdown",
   "id": "31564092",
   "metadata": {},
   "source": [
    "# Vectorized"
   ]
  },
  {
   "cell_type": "code",
   "execution_count": 13,
   "id": "fc5084e9",
   "metadata": {
    "deletable": false,
    "nbgrader": {
     "cell_type": "code",
     "checksum": "6f452aaa24d69e2257c0851d750fd4aa",
     "grade": false,
     "grade_id": "cell-a96e9a6d51919ffc",
     "locked": false,
     "schema_version": 3,
     "solution": true,
     "task": false
    }
   },
   "outputs": [],
   "source": [
    "def log_loss_vectorized(w, b,X, y, alpha=0):\n",
    "    \"\"\"\n",
    "    log loss function WITHOUT FOR LOOPs\n",
    "    \n",
    "    Returns a tuple of:\n",
    "    - loss \n",
    "    - gradient with respect to weights w\n",
    "    \"\"\"\n",
    "    loss = 0.0\n",
    "    dw = np.zeros_like(w)\n",
    "    \n",
    "    # YOUR CODE HERE\n",
    "    n = len(X)\n",
    "    \n",
    "    loss = -(y @ np.log(sigmoid(X@w + b)) + (1 - y) @ np.log(1 - sigmoid(X@w +b)))/n + alpha * (np.linalg.norm(w, 2))**2\n",
    "    ## now we have €(y - ŷ)/n, ŷ is our estimator. This is what we will derivate\n",
    "    dw = -((y - sigmoid(X@w + b))@X)/n + alpha * 2.0 * w\n",
    "    ## derivate p/r b\n",
    "    db = -(y - sigmoid(X@w +b))/n\n",
    "        \n",
    "    db = sum(db)\n",
    "    return loss, dw, np.array(db).reshape(1,)"
   ]
  },
  {
   "cell_type": "code",
   "execution_count": 14,
   "id": "c425e768",
   "metadata": {
    "deletable": false,
    "editable": false,
    "nbgrader": {
     "cell_type": "code",
     "checksum": "f415c75f4653f455eeeccba9f7ad1676",
     "grade": true,
     "grade_id": "cell-ca14e49ada130789",
     "locked": true,
     "points": 1,
     "schema_version": 3,
     "solution": false,
     "task": false
    }
   },
   "outputs": [
    {
     "name": "stdout",
     "output_type": "stream",
     "text": [
      "Loss error :  0.0\n",
      "Gradient check w\n",
      "numerical: -4.887680 analytic: -4.887681, relative error: 2.262328e-08\n",
      "numerical: -0.021924 analytic: -0.021924, relative error: 7.325175e-11\n",
      "numerical: 0.007094 analytic: 0.007094, relative error: 2.612871e-10\n",
      "numerical: -0.177988 analytic: -0.177988, relative error: 2.325205e-11\n",
      "numerical: 0.008023 analytic: 0.008023, relative error: 2.971495e-10\n",
      "numerical: -0.002993 analytic: -0.002993, relative error: 1.687316e-10\n",
      "numerical: -1.948738 analytic: -1.948738, relative error: 3.523462e-10\n",
      "numerical: -0.000991 analytic: -0.000991, relative error: 2.911489e-09\n",
      "numerical: -0.844697 analytic: -0.844697, relative error: 4.526792e-10\n",
      "numerical: -0.011557 analytic: -0.011557, relative error: 2.439116e-10\n",
      "numerical: -0.014574 analytic: -0.014574, relative error: 3.441431e-12\n",
      "numerical: 5.766730 analytic: 5.766730, relative error: 3.701255e-08\n",
      "numerical: -3.219932 analytic: -3.219932, relative error: 6.338770e-08\n",
      "numerical: 0.007094 analytic: 0.007094, relative error: 2.612871e-10\n",
      "numerical: 21.522550 analytic: 21.522355, relative error: 4.533853e-06\n",
      "Gradient check bias\n",
      "numerical: -0.144896 analytic: -0.144896, relative error: 1.698320e-11\n",
      "numerical: -0.144896 analytic: -0.144896, relative error: 1.698320e-11\n",
      "numerical: -0.144896 analytic: -0.144896, relative error: 1.698320e-11\n",
      "numerical: -0.144896 analytic: -0.144896, relative error: 1.698320e-11\n",
      "numerical: -0.144896 analytic: -0.144896, relative error: 1.698320e-11\n",
      "numerical: -0.144896 analytic: -0.144896, relative error: 1.698320e-11\n",
      "numerical: -0.144896 analytic: -0.144896, relative error: 1.698320e-11\n",
      "numerical: -0.144896 analytic: -0.144896, relative error: 1.698320e-11\n",
      "numerical: -0.144896 analytic: -0.144896, relative error: 1.698320e-11\n",
      "numerical: -0.144896 analytic: -0.144896, relative error: 1.698320e-11\n",
      "numerical: -0.144896 analytic: -0.144896, relative error: 1.698320e-11\n",
      "numerical: -0.144896 analytic: -0.144896, relative error: 1.698320e-11\n",
      "numerical: -0.144896 analytic: -0.144896, relative error: 1.698320e-11\n",
      "numerical: -0.144896 analytic: -0.144896, relative error: 1.698320e-11\n",
      "numerical: -0.144896 analytic: -0.144896, relative error: 1.698320e-11\n"
     ]
    }
   ],
   "source": [
    "y_pred_0 = sigmoid(X_train2 @ w2 + b2)\n",
    "y_pred = np.vstack([1-y_pred_0, y_pred_0]).T\n",
    "sk_loss = log_loss(y_train2, y_pred)\n",
    "\n",
    "loss, dw2, db2 = log_loss_vectorized(w2, b2, X_train2, y_train2, alpha=0)\n",
    "print(\"Loss error : \",rel_error(loss, sk_loss))\n",
    "assert rel_error(loss, sk_loss) < 1e-9\n",
    "\n",
    "print(\"Gradient check w\")\n",
    "# Check with numerical gradient w\n",
    "f = lambda w2: log_loss_vectorized(w2, b2, X_train2, y_train2, alpha=0)[0]\n",
    "grad_numerical = grad_check_sparse(f, w2, dw2, 15, error=1e-4)\n",
    "\n",
    "print(\"Gradient check bias\")\n",
    "# Check with numerical gradient b\n",
    "f2 = lambda b2: log_loss_vectorized(w2, b2, X_train2, y_train2, alpha=0)[0]\n",
    "grad_numerical = grad_check_sparse(f2, b2, db2, 15,  error=1e-5)"
   ]
  },
  {
   "cell_type": "markdown",
   "id": "dc7be5da",
   "metadata": {},
   "source": [
    "# Vectorized with regularization"
   ]
  },
  {
   "cell_type": "code",
   "execution_count": 15,
   "id": "a4e09127",
   "metadata": {
    "deletable": false,
    "editable": false,
    "nbgrader": {
     "cell_type": "code",
     "checksum": "53e97adc2666d529eff9ba1abcd3756a",
     "grade": true,
     "grade_id": "cell-bce082fccf8b7057",
     "locked": true,
     "points": 1,
     "schema_version": 3,
     "solution": false,
     "task": false
    }
   },
   "outputs": [
    {
     "name": "stdout",
     "output_type": "stream",
     "text": [
      "Gradient check w\n",
      "numerical: -0.014836 analytic: -0.014836, relative error: 6.749290e-11\n",
      "numerical: -0.009360 analytic: -0.009360, relative error: 5.716002e-11\n",
      "numerical: -2.385659 analytic: -2.385659, relative error: 6.908610e-10\n",
      "numerical: 0.015271 analytic: 0.015271, relative error: 6.233415e-11\n",
      "numerical: -0.000641 analytic: -0.000641, relative error: 2.611388e-09\n",
      "numerical: -0.009482 analytic: -0.009482, relative error: 1.686687e-10\n",
      "numerical: 0.110301 analytic: 0.110301, relative error: 1.713414e-10\n",
      "numerical: 0.007198 analytic: 0.007198, relative error: 2.659024e-10\n",
      "numerical: -4.887458 analytic: -4.887458, relative error: 2.262412e-08\n",
      "numerical: 0.015271 analytic: 0.015271, relative error: 6.233415e-11\n",
      "numerical: 0.110301 analytic: 0.110301, relative error: 1.713414e-10\n",
      "numerical: -0.009360 analytic: -0.009360, relative error: 5.716002e-11\n",
      "numerical: -0.600694 analytic: -0.600694, relative error: 1.139616e-09\n",
      "numerical: -0.003011 analytic: -0.003011, relative error: 3.192534e-10\n",
      "numerical: -0.001385 analytic: -0.001385, relative error: 1.059740e-09\n",
      "Gradient check bias\n",
      "numerical: -0.144896 analytic: -0.144896, relative error: 1.698320e-11\n",
      "numerical: -0.144896 analytic: -0.144896, relative error: 1.698320e-11\n",
      "numerical: -0.144896 analytic: -0.144896, relative error: 1.698320e-11\n",
      "numerical: -0.144896 analytic: -0.144896, relative error: 1.698320e-11\n",
      "numerical: -0.144896 analytic: -0.144896, relative error: 1.698320e-11\n",
      "numerical: -0.144896 analytic: -0.144896, relative error: 1.698320e-11\n",
      "numerical: -0.144896 analytic: -0.144896, relative error: 1.698320e-11\n",
      "numerical: -0.144896 analytic: -0.144896, relative error: 1.698320e-11\n",
      "numerical: -0.144896 analytic: -0.144896, relative error: 1.698320e-11\n",
      "numerical: -0.144896 analytic: -0.144896, relative error: 1.698320e-11\n",
      "numerical: -0.144896 analytic: -0.144896, relative error: 1.698320e-11\n",
      "numerical: -0.144896 analytic: -0.144896, relative error: 1.698320e-11\n",
      "numerical: -0.144896 analytic: -0.144896, relative error: 1.698320e-11\n",
      "numerical: -0.144896 analytic: -0.144896, relative error: 1.698320e-11\n",
      "numerical: -0.144896 analytic: -0.144896, relative error: 1.698320e-11\n"
     ]
    }
   ],
   "source": [
    "loss, dw2, db2 = log_loss_vectorized(w2, b2, X_train2, y_train2, alpha=1)\n",
    "\n",
    "print(\"Gradient check w\")\n",
    "# Check with numerical gradient w\n",
    "f = lambda w2: log_loss_vectorized(w2, b2, X_train2, y_train2, alpha=1)[0]\n",
    "grad_numerical = grad_check_sparse(f, w2, dw2, 15, error=1e-4)\n",
    "\n",
    "print(\"Gradient check bias\")\n",
    "# Check with numerical gradient b\n",
    "f2 = lambda b2: log_loss_vectorized(w2, b2, X_train2, y_train2, alpha=1)[0]\n",
    "grad_numerical = grad_check_sparse(f2, b2, db2, 15,  error=1e-5)"
   ]
  },
  {
   "cell_type": "markdown",
   "id": "06403ea0",
   "metadata": {},
   "source": [
    "# Gradient descent for Linear models"
   ]
  },
  {
   "cell_type": "code",
   "execution_count": 16,
   "id": "5039af1c",
   "metadata": {
    "deletable": false,
    "nbgrader": {
     "cell_type": "code",
     "checksum": "9a1783db1a1f1898028260238567bed7",
     "grade": false,
     "grade_id": "cell-485e52c0efd4f4a9",
     "locked": false,
     "schema_version": 3,
     "solution": true,
     "task": false
    }
   },
   "outputs": [],
   "source": [
    "class LinearModel():\n",
    "    def __init__(self):\n",
    "        self.w = None\n",
    "        self.b = None\n",
    "\n",
    "    def train(self, X, y, learning_rate=1e-3, alpha=0, num_iters=100, batch_size=200, verbose=False):\n",
    "        N, d = X.shape\n",
    "        \n",
    "        if self.w is None: # Initialization\n",
    "            self.w = 0.001 * np.random.randn(d)\n",
    "            self.b = 0.0\n",
    "\n",
    "        # Run stochastic gradient descent to optimize w\n",
    "        \n",
    "        loss_history = []\n",
    "        for it in range(num_iters):\n",
    "            X_batch = None\n",
    "            y_batch = None\n",
    "                                                               \n",
    "            # Sample batch_size elements in X_batch and y_batch\n",
    "            # X_batch shape is  (batch_size, d) and y_batch shape is (batch_size,)                                                                                          \n",
    "            # Hint: Use np.random.choice to generate indices\n",
    "            \n",
    "            # YOUR CODE HERE\n",
    "            ## echantillonage\n",
    "            i = np.random.choice (X.shape[0], batch_size)\n",
    "            ## building matrix X and vector y\n",
    "            X_batch = X[i, :]\n",
    "            y_batch = y[i]\n",
    "            \n",
    "            # evaluate loss and gradient\n",
    "            loss, dw, db = self.loss(X_batch, y_batch, alpha)\n",
    "            loss_history.append(loss)\n",
    "\n",
    "            # perform parameter update                                                                \n",
    "            # Update the weights w and bias b using the gradient and the learning rate.          \n",
    "            self.w = self.w - learning_rate * dw\n",
    "            self.b = self.b - learning_rate * db\n",
    "            \n",
    "            if verbose and it % 10000 == 0:\n",
    "                print(\"iteration %d / %d: loss %f\" % (it, num_iters, loss))\n",
    "                \n",
    "        return loss_history\n",
    "\n",
    "    def predict(self, X):\n",
    "        pass\n",
    "\n",
    "    def loss(self, X_batch, y_batch, reg):\n",
    "        pass\n",
    "\n",
    "class LinearRegressor(LinearModel):\n",
    "    \"\"\" Linear regression \"\"\"\n",
    "\n",
    "    def loss(self, X_batch, y_batch, alpha):\n",
    "        return mse_loss_vectorized(self.w, self.b, X_batch, y_batch, alpha)\n",
    "    \n",
    "    def predict(self, X):\n",
    "        return X @ self.w + self.b\n",
    "\n",
    "class LogisticRegressor(LinearModel):\n",
    "    \"\"\" Linear regression \"\"\"\n",
    "\n",
    "    def loss(self, X_batch, y_batch, alpha):\n",
    "        return log_loss_vectorized(self.w, self.b, X_batch, y_batch, alpha)\n",
    "    \n",
    "    def predict(self, X):\n",
    "        \"\"\" Return prediction labels vector of 0 or 1 \"\"\"\n",
    "        ## We will return a vector here so let's create it 1st\n",
    "        result = np.zeros(X.shape[0])\n",
    "        for i in range (0, X.shape[0]) :\n",
    "            if X[i] @ np.transpose(self.w) + self.b <0 :\n",
    "                result[i] = 0\n",
    "            else :\n",
    "                result[i] = 1\n",
    "        return result"
   ]
  },
  {
   "cell_type": "markdown",
   "id": "7fa0aa79",
   "metadata": {},
   "source": [
    "## Linear regression with gradient descent"
   ]
  },
  {
   "cell_type": "code",
   "execution_count": 17,
   "id": "86925e00",
   "metadata": {
    "deletable": false,
    "editable": false,
    "nbgrader": {
     "cell_type": "code",
     "checksum": "30f1c271b16efe670214663c10743937",
     "grade": true,
     "grade_id": "cell-92f36a3b387a4277",
     "locked": true,
     "points": 2,
     "schema_version": 3,
     "solution": false,
     "task": false
    }
   },
   "outputs": [
    {
     "name": "stdout",
     "output_type": "stream",
     "text": [
      "iteration 0 / 75000: loss 30133.660194\n",
      "iteration 10000 / 75000: loss 4252.919047\n",
      "iteration 20000 / 75000: loss 2623.530449\n",
      "iteration 30000 / 75000: loss 2856.680840\n",
      "iteration 40000 / 75000: loss 3519.123356\n",
      "iteration 50000 / 75000: loss 3688.946920\n",
      "iteration 60000 / 75000: loss 2450.988196\n",
      "iteration 70000 / 75000: loss 2844.601545\n",
      "MSE scikit-learn: 2859.6903987680657\n",
      "MSE gradient descent model : 2885.0645903782984\n"
     ]
    }
   ],
   "source": [
    "from sklearn.linear_model import LinearRegression\n",
    "\n",
    "sk_model = LinearRegression(fit_intercept=True)\n",
    "sk_model.fit(X_train1, y_train1)\n",
    "sk_pred = sk_model.predict(X_train1)\n",
    "sk_mse = mean_squared_error(sk_pred, y_train1)\n",
    "\n",
    "model = LinearRegressor()\n",
    "model.train(X_train1, y_train1, num_iters=75000, batch_size=64, learning_rate=1e-2, verbose=True)\n",
    "pred = model.predict(X_train1)\n",
    "mse = mean_squared_error(pred, y_train1)\n",
    "\n",
    "print(\"MSE scikit-learn:\", sk_mse)\n",
    "print(\"MSE gradient descent model :\", mse)\n",
    "assert mse - sk_mse < 100"
   ]
  },
  {
   "cell_type": "markdown",
   "id": "d17c54d8",
   "metadata": {},
   "source": [
    "## Logistc regression with gradient descent"
   ]
  },
  {
   "cell_type": "code",
   "execution_count": 18,
   "id": "9219f422",
   "metadata": {
    "deletable": false,
    "editable": false,
    "nbgrader": {
     "cell_type": "code",
     "checksum": "c6196155f76f4eded31fefce67a76d60",
     "grade": true,
     "grade_id": "cell-925a2ddb5c1ba7ff",
     "locked": true,
     "points": 2,
     "schema_version": 3,
     "solution": false,
     "task": false
    }
   },
   "outputs": [
    {
     "name": "stdout",
     "output_type": "stream",
     "text": [
      "iteration 0 / 75000: loss 0.694878\n",
      "iteration 10000 / 75000: loss 0.110702\n",
      "iteration 20000 / 75000: loss 0.153093\n",
      "iteration 30000 / 75000: loss 0.069042\n",
      "iteration 40000 / 75000: loss 0.080207\n",
      "iteration 50000 / 75000: loss 0.125726\n",
      "iteration 60000 / 75000: loss 0.033689\n",
      "iteration 70000 / 75000: loss 0.102923\n",
      "Log-loss scikit-learn: 0.4249086712816093\n",
      "Log-loss gradiet descent model : 0.4249086712816093\n",
      "Error : 0.0\n"
     ]
    }
   ],
   "source": [
    "from sklearn.linear_model import LogisticRegression\n",
    "from sklearn.preprocessing import StandardScaler\n",
    "\n",
    "scaler = StandardScaler()\n",
    "X_train2 = scaler.fit_transform(X_train2)\n",
    "\n",
    "sk_model = LogisticRegression(fit_intercept=True)\n",
    "sk_model.fit(X_train2, y_train2)\n",
    "sk_pred = sk_model.predict(X_train2)\n",
    "sk_log_loss = log_loss(sk_pred, y_train2)\n",
    "\n",
    "model = LogisticRegressor()\n",
    "model.train(X_train2, y_train2, num_iters=75000, batch_size=64, learning_rate=1e-3, verbose=True)\n",
    "pred = model.predict(X_train2)\n",
    "model_log_loss = log_loss(pred, y_train2)\n",
    "\n",
    "print(\"Log-loss scikit-learn:\", sk_log_loss)\n",
    "print(\"Log-loss gradiet descent model :\", model_log_loss)\n",
    "print(\"Error :\", rel_error(sk_log_loss, model_log_loss))\n",
    "assert rel_error(sk_log_loss, model_log_loss) < 1e-7"
   ]
  },
  {
   "cell_type": "code",
   "execution_count": null,
   "id": "396f7431",
   "metadata": {},
   "outputs": [],
   "source": []
  }
 ],
 "metadata": {
  "kernelspec": {
   "display_name": "Python 3 (ipykernel)",
   "language": "python",
   "name": "python3"
  },
  "language_info": {
   "codemirror_mode": {
    "name": "ipython",
    "version": 3
   },
   "file_extension": ".py",
   "mimetype": "text/x-python",
   "name": "python",
   "nbconvert_exporter": "python",
   "pygments_lexer": "ipython3",
   "version": "3.9.13"
  }
 },
 "nbformat": 4,
 "nbformat_minor": 5
}
