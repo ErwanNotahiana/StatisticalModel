{
 "cells": [
  {
   "cell_type": "markdown",
   "id": "39c47777",
   "metadata": {},
   "source": [
    "Alohan'ny mamerina dia avereno atao Run ny notebook iray manontolo. Ny fanaovana azy dia redémarrena mihitsy ny kernel aloha (jereo menubar, safidio **Kernel$\\rightarrow$Restart Kernel and Run All Cells**).\n",
    "\n",
    "Izay misy hoe `YOUR CODE HERE` na \"YOUR ANSWER HERE\" ihany no fenoina. Afaka manampy cells vaovao raha ilaina. Aza adino ny mameno references eo ambany raha ilaina."
   ]
  },
  {
   "cell_type": "markdown",
   "id": "c4cb62a4",
   "metadata": {},
   "source": [
    "## References\n",
    "Eto ilay references rehetra no apetraka"
   ]
  },
  {
   "cell_type": "markdown",
   "id": "08c356a8",
   "metadata": {},
   "source": [
    "---"
   ]
  },
  {
   "cell_type": "code",
   "execution_count": 1,
   "id": "ab42c33c",
   "metadata": {
    "deletable": false,
    "editable": false,
    "nbgrader": {
     "cell_type": "code",
     "checksum": "d3d3c2e2a84ff92fa02220ae689dc414",
     "grade": false,
     "grade_id": "cell-38b4529793385ad1",
     "locked": true,
     "schema_version": 3,
     "solution": false,
     "task": false
    }
   },
   "outputs": [],
   "source": [
    "from random import randrange\n",
    "import numpy as np\n",
    "from sklearn.metrics import mean_squared_error, log_loss\n",
    "from sklearn.datasets import load_breast_cancer, load_diabetes\n",
    "\n",
    "\n",
    "def grad_check_sparse(f, x, analytic_grad, num_checks=10, h=1e-5, error=1e-9):\n",
    "    \"\"\"\n",
    "    sample a few random elements and only return numerical\n",
    "    in this dimensions\n",
    "    \"\"\"\n",
    "\n",
    "    for i in range(num_checks):\n",
    "        ix = tuple([randrange(m) for m in x.shape])\n",
    "\n",
    "        oldval = x[ix]\n",
    "        x[ix] = oldval + h  # increment by h\n",
    "        fxph = f(x)  # evaluate f(x + h)\n",
    "        x[ix] = oldval - h  # increment by h\n",
    "        fxmh = f(x)  # evaluate f(x - h)\n",
    "        x[ix] = oldval  # reset\n",
    "\n",
    "        grad_numerical = (fxph - fxmh) / (2 * h)\n",
    "        grad_analytic = analytic_grad[ix]\n",
    "        rel_error = abs(grad_numerical - grad_analytic) / (\n",
    "            abs(grad_numerical) + abs(grad_analytic)\n",
    "        )\n",
    "        print(\n",
    "            \"numerical: %f analytic: %f, relative error: %e\"\n",
    "            % (grad_numerical, grad_analytic, rel_error)\n",
    "        )\n",
    "        assert rel_error < error\n",
    "\n",
    "def rel_error(x, y):\n",
    "    \"\"\" returns relative error \"\"\"\n",
    "    return np.max(np.abs(x - y) / (np.maximum(1e-8, np.abs(x) + np.abs(y))))"
   ]
  },
  {
   "cell_type": "markdown",
   "id": "cfec4298",
   "metadata": {},
   "source": [
    "# Linear regression"
   ]
  },
  {
   "cell_type": "code",
   "execution_count": 2,
   "id": "731a18bc",
   "metadata": {
    "deletable": false,
    "editable": false,
    "nbgrader": {
     "cell_type": "code",
     "checksum": "1159b5dc8c59570993ac39ae349c5037",
     "grade": false,
     "grade_id": "cell-3fb8ebd5eb97e246",
     "locked": true,
     "schema_version": 3,
     "solution": false,
     "task": false
    }
   },
   "outputs": [],
   "source": [
    "data = load_diabetes()\n",
    "X_train1, y_train1 = data.data, data.target\n",
    "w1 = np.random.randn(X_train1.shape[1]) * 0.0001\n",
    "b1 = np.random.randn(1) * 0.0001"
   ]
  },
  {
   "cell_type": "code",
   "execution_count": 3,
   "id": "f07dea71",
   "metadata": {
    "deletable": false,
    "nbgrader": {
     "cell_type": "code",
     "checksum": "baf9b75ec047c1cdb887ecb2bc2043a1",
     "grade": false,
     "grade_id": "cell-5ffdf99ad7cdfd69",
     "locked": false,
     "schema_version": 3,
     "solution": true,
     "task": false
    }
   },
   "outputs": [],
   "source": [
    "def mse_loss_naive(w, b, X, y, alpha=0):\n",
    "    \"\"\"\n",
    "    MSE loss function WITH FOR LOOPs\n",
    "    \n",
    "    Returns a tuple of:\n",
    "    - loss \n",
    "    - gradient with respect to weights w\n",
    "    - gradient with respect to bias b\n",
    "    \"\"\"\n",
    "    loss = 0.0\n",
    "    dw = np.zeros_like(w)\n",
    "    db = 0.0\n",
    "    \n",
    "    n = len(X)\n",
    "    for i in range(0, n) : \n",
    "        loss += ((y[i] - w@X[i] - b)**2)/n \n",
    "        dw += -2.0*(X[i]*(y[i] - w@X[i] - b))/n\n",
    "        db += -2.0*(y[i] - w@X[i] - b)/n\n",
    "    \n",
    "    ## we know just add the regularisation\n",
    "    loss += alpha * (np.linalg.norm(w, 2))**2\n",
    "    dw += alpha * 2.0 * w\n",
    "    \n",
    "    return loss, dw, np.array(db).reshape(1,)"
   ]
  },
  {
   "cell_type": "markdown",
   "id": "bddacc5d",
   "metadata": {},
   "source": [
    "## Naive Linear regression loss"
   ]
  },
  {
   "cell_type": "code",
   "execution_count": 4,
   "id": "86cdcedc",
   "metadata": {
    "deletable": false,
    "editable": false,
    "nbgrader": {
     "cell_type": "code",
     "checksum": "c67f4964c919b07a15b9ca06dc2e8b1f",
     "grade": true,
     "grade_id": "cell-079e42b153b67a60",
     "locked": true,
     "points": 1,
     "schema_version": 3,
     "solution": false,
     "task": false
    }
   },
   "outputs": [
    {
     "name": "stdout",
     "output_type": "stream",
     "text": [
      "Loss error :  4.3794191666275133e-16\n",
      "Gradient check w\n",
      "numerical: -3.153317 analytic: -3.153317, relative error: 2.641000e-08\n",
      "numerical: -1.553188 analytic: -1.553188, relative error: 1.638764e-08\n",
      "numerical: -4.145423 analytic: -4.145424, relative error: 1.452043e-07\n",
      "numerical: -1.553188 analytic: -1.553188, relative error: 1.638764e-08\n",
      "numerical: -4.296089 analytic: -4.296087, relative error: 2.572804e-07\n",
      "numerical: -3.234125 analytic: -3.234125, relative error: 1.776201e-08\n",
      "numerical: -3.234125 analytic: -3.234125, relative error: 1.776201e-08\n",
      "numerical: 2.892062 analytic: 2.892060, relative error: 3.294674e-07\n",
      "numerical: -0.315451 analytic: -0.315455, relative error: 5.377082e-06\n",
      "numerical: -4.145423 analytic: -4.145424, relative error: 1.452043e-07\n",
      "numerical: -2.801914 analytic: -2.801914, relative error: 6.499663e-08\n",
      "numerical: -4.296089 analytic: -4.296087, relative error: 2.572804e-07\n",
      "numerical: 2.892062 analytic: 2.892060, relative error: 3.294674e-07\n",
      "numerical: 2.892062 analytic: 2.892060, relative error: 3.294674e-07\n",
      "numerical: -2.801914 analytic: -2.801914, relative error: 6.499663e-08\n",
      "Gradient check bias\n",
      "numerical: -304.266843 analytic: -304.266842, relative error: 1.204665e-09\n",
      "numerical: -304.266843 analytic: -304.266842, relative error: 1.204665e-09\n",
      "numerical: -304.266843 analytic: -304.266842, relative error: 1.204665e-09\n",
      "numerical: -304.266843 analytic: -304.266842, relative error: 1.204665e-09\n",
      "numerical: -304.266843 analytic: -304.266842, relative error: 1.204665e-09\n",
      "numerical: -304.266843 analytic: -304.266842, relative error: 1.204665e-09\n",
      "numerical: -304.266843 analytic: -304.266842, relative error: 1.204665e-09\n",
      "numerical: -304.266843 analytic: -304.266842, relative error: 1.204665e-09\n",
      "numerical: -304.266843 analytic: -304.266842, relative error: 1.204665e-09\n",
      "numerical: -304.266843 analytic: -304.266842, relative error: 1.204665e-09\n",
      "numerical: -304.266843 analytic: -304.266842, relative error: 1.204665e-09\n",
      "numerical: -304.266843 analytic: -304.266842, relative error: 1.204665e-09\n",
      "numerical: -304.266843 analytic: -304.266842, relative error: 1.204665e-09\n",
      "numerical: -304.266843 analytic: -304.266842, relative error: 1.204665e-09\n",
      "numerical: -304.266843 analytic: -304.266842, relative error: 1.204665e-09\n"
     ]
    }
   ],
   "source": [
    "loss, dw1, db1 = mse_loss_naive(w1, b1, X_train1, y_train1, alpha=0)\n",
    "\n",
    "sk_loss = mean_squared_error(X_train1 @ w1 + b1, y_train1)\n",
    "print(\"Loss error : \",rel_error(loss, sk_loss))\n",
    "assert rel_error(loss, sk_loss) < 1e-9\n",
    "\n",
    "print(\"Gradient check w\")\n",
    "# Check with numerical gradient w\n",
    "f = lambda w1: mse_loss_naive(w1, b1, X_train1, y_train1, alpha=0)[0]\n",
    "grad_numerical = grad_check_sparse(f, w1, dw1, 15,  error=1e-5)\n",
    "\n",
    "print(\"Gradient check bias\")\n",
    "# Check with numerical gradient b\n",
    "f2 = lambda b1: mse_loss_naive(w1, b1, X_train1, y_train1, alpha=0)[0]\n",
    "grad_numerical = grad_check_sparse(f2, b1, db1, 15,  error=1e-5)"
   ]
  },
  {
   "cell_type": "markdown",
   "id": "db438d3f",
   "metadata": {},
   "source": [
    "## Naive Ridge regression loss"
   ]
  },
  {
   "cell_type": "code",
   "execution_count": 5,
   "id": "36465817",
   "metadata": {
    "deletable": false,
    "editable": false,
    "nbgrader": {
     "cell_type": "code",
     "checksum": "9ca5790893e5950341f7370bb3be167c",
     "grade": true,
     "grade_id": "cell-14a64cb1cfe70b98",
     "locked": true,
     "points": 1,
     "schema_version": 3,
     "solution": false,
     "task": false
    }
   },
   "outputs": [
    {
     "name": "stdout",
     "output_type": "stream",
     "text": [
      "Gradient check w\n",
      "numerical: -1.376194 analytic: -1.376194, relative error: 3.470118e-07\n",
      "numerical: -4.295839 analytic: -4.295837, relative error: 2.424745e-07\n",
      "numerical: -1.553215 analytic: -1.553215, relative error: 2.534317e-08\n",
      "numerical: -1.553215 analytic: -1.553215, relative error: 2.534317e-08\n",
      "numerical: -0.315761 analytic: -0.315765, relative error: 5.599250e-06\n",
      "numerical: -1.376194 analytic: -1.376194, relative error: 3.470118e-07\n",
      "numerical: -4.145436 analytic: -4.145438, relative error: 1.401535e-07\n",
      "numerical: -1.553215 analytic: -1.553215, relative error: 2.534317e-08\n",
      "numerical: -3.234311 analytic: -3.234311, relative error: 2.160148e-08\n",
      "numerical: -1.275047 analytic: -1.275048, relative error: 2.298662e-07\n",
      "numerical: -3.234311 analytic: -3.234311, relative error: 2.160148e-08\n",
      "numerical: -4.295839 analytic: -4.295837, relative error: 2.424745e-07\n",
      "numerical: -4.145436 analytic: -4.145438, relative error: 1.401535e-07\n",
      "numerical: -1.376194 analytic: -1.376194, relative error: 3.470118e-07\n",
      "numerical: -3.234311 analytic: -3.234311, relative error: 2.160148e-08\n",
      "Gradient check bias\n",
      "numerical: -304.266843 analytic: -304.266842, relative error: 1.204665e-09\n",
      "numerical: -304.266843 analytic: -304.266842, relative error: 1.204665e-09\n",
      "numerical: -304.266843 analytic: -304.266842, relative error: 1.204665e-09\n",
      "numerical: -304.266843 analytic: -304.266842, relative error: 1.204665e-09\n",
      "numerical: -304.266843 analytic: -304.266842, relative error: 1.204665e-09\n",
      "numerical: -304.266843 analytic: -304.266842, relative error: 1.204665e-09\n",
      "numerical: -304.266843 analytic: -304.266842, relative error: 1.204665e-09\n",
      "numerical: -304.266843 analytic: -304.266842, relative error: 1.204665e-09\n",
      "numerical: -304.266843 analytic: -304.266842, relative error: 1.204665e-09\n",
      "numerical: -304.266843 analytic: -304.266842, relative error: 1.204665e-09\n",
      "numerical: -304.266843 analytic: -304.266842, relative error: 1.204665e-09\n",
      "numerical: -304.266843 analytic: -304.266842, relative error: 1.204665e-09\n",
      "numerical: -304.266843 analytic: -304.266842, relative error: 1.204665e-09\n",
      "numerical: -304.266843 analytic: -304.266842, relative error: 1.204665e-09\n",
      "numerical: -304.266843 analytic: -304.266842, relative error: 1.204665e-09\n"
     ]
    }
   ],
   "source": [
    "loss, dw1, db1 = mse_loss_naive(w1, b1, X_train1, y_train1, alpha=1)\n",
    "\n",
    "print(\"Gradient check w\")\n",
    "# Check with numerical gradient w\n",
    "f = lambda w1: mse_loss_naive(w1, b1, X_train1, y_train1, alpha=1)[0]\n",
    "grad_numerical = grad_check_sparse(f, w1, dw1, 15,  error=1e-5)\n",
    "\n",
    "print(\"Gradient check bias\")\n",
    "# Check with numerical gradient b\n",
    "f2 = lambda b1: mse_loss_naive(w1, b1, X_train1, y_train1, alpha=1)[0]\n",
    "grad_numerical = grad_check_sparse(f2, b1, db1, 15,  error=1e-5)"
   ]
  },
  {
   "cell_type": "code",
   "execution_count": 6,
   "id": "5c6b011f",
   "metadata": {
    "deletable": false,
    "nbgrader": {
     "cell_type": "code",
     "checksum": "21b3a09270262dbad9cb1c15c0fc69f8",
     "grade": false,
     "grade_id": "cell-1528a28f467d90c7",
     "locked": false,
     "schema_version": 3,
     "solution": true,
     "task": false
    }
   },
   "outputs": [],
   "source": [
    "def mse_loss_vectorized(w, b, X, y, alpha=0):\n",
    "    \"\"\"\n",
    "    MSE loss function WITHOUT FOR LOOPs\n",
    "    \n",
    "    Returns a tuple of:\n",
    "    - loss \n",
    "    - gradient with respect to weights w\n",
    "    - gradient with respect to bias b\n",
    "    \"\"\"\n",
    "    loss = 0.0\n",
    "    dw = np.zeros_like(w)\n",
    "    db = 0.0\n",
    "    \n",
    "    n = len(X)\n",
    "    \n",
    "    loss = (np.transpose(y - X@w - b) @ (y - X@w - b))/n + alpha * (np.linalg.norm(w, 2))**2\n",
    "    dw = (-2.0 * (np.transpose(X) @ (y - X@w - b)))/n + 2.0 * alpha * w\n",
    "    db = -2.0 * (y - X@w - b)/n\n",
    "    \n",
    "    ## We want to return a nuber, which is the sum of all the content of our list bd\n",
    "    db = sum(db)\n",
    "    \n",
    "    return loss, dw, np.array(db).reshape(1,)"
   ]
  },
  {
   "cell_type": "markdown",
   "id": "1d9bff00",
   "metadata": {},
   "source": [
    "## Vectorised Linear regression loss"
   ]
  },
  {
   "cell_type": "code",
   "execution_count": 7,
   "id": "05dd3b4d",
   "metadata": {
    "deletable": false,
    "editable": false,
    "nbgrader": {
     "cell_type": "code",
     "checksum": "76d06d37e089b9fdf2c7ca7fa3241a61",
     "grade": true,
     "grade_id": "cell-41637ca21c8f938d",
     "locked": true,
     "points": 1,
     "schema_version": 3,
     "solution": false,
     "task": false
    }
   },
   "outputs": [
    {
     "name": "stdout",
     "output_type": "stream",
     "text": [
      "Loss error :  0.0\n",
      "Gradient check w\n",
      "numerical: -2.801914 analytic: -2.801914, relative error: 3.253686e-08\n",
      "numerical: -1.376394 analytic: -1.376394, relative error: 7.243167e-09\n",
      "numerical: -3.153317 analytic: -3.153317, relative error: 2.432482e-09\n",
      "numerical: -0.315455 analytic: -0.315455, relative error: 1.874324e-07\n",
      "numerical: 2.892060 analytic: 2.892060, relative error: 1.498761e-08\n",
      "numerical: -1.275043 analytic: -1.275043, relative error: 1.869316e-08\n",
      "numerical: -1.376394 analytic: -1.376394, relative error: 7.243167e-09\n",
      "numerical: -2.801914 analytic: -2.801914, relative error: 3.253686e-08\n",
      "numerical: -0.315455 analytic: -0.315455, relative error: 1.874324e-07\n",
      "numerical: 2.892060 analytic: 2.892060, relative error: 1.498761e-08\n",
      "numerical: -1.553188 analytic: -1.553188, relative error: 1.638764e-08\n",
      "numerical: -2.801914 analytic: -2.801914, relative error: 3.253686e-08\n",
      "numerical: -4.145424 analytic: -4.145424, relative error: 3.550568e-08\n",
      "numerical: -4.296087 analytic: -4.296087, relative error: 1.793354e-08\n",
      "numerical: -1.376394 analytic: -1.376394, relative error: 7.243167e-09\n",
      "Gradient check bias\n",
      "numerical: -304.266842 analytic: -304.266842, relative error: 9.011121e-12\n",
      "numerical: -304.266842 analytic: -304.266842, relative error: 9.011121e-12\n",
      "numerical: -304.266842 analytic: -304.266842, relative error: 9.011121e-12\n",
      "numerical: -304.266842 analytic: -304.266842, relative error: 9.011121e-12\n",
      "numerical: -304.266842 analytic: -304.266842, relative error: 9.011121e-12\n",
      "numerical: -304.266842 analytic: -304.266842, relative error: 9.011121e-12\n",
      "numerical: -304.266842 analytic: -304.266842, relative error: 9.011121e-12\n",
      "numerical: -304.266842 analytic: -304.266842, relative error: 9.011121e-12\n",
      "numerical: -304.266842 analytic: -304.266842, relative error: 9.011121e-12\n",
      "numerical: -304.266842 analytic: -304.266842, relative error: 9.011121e-12\n",
      "numerical: -304.266842 analytic: -304.266842, relative error: 9.011121e-12\n",
      "numerical: -304.266842 analytic: -304.266842, relative error: 9.011121e-12\n",
      "numerical: -304.266842 analytic: -304.266842, relative error: 9.011121e-12\n",
      "numerical: -304.266842 analytic: -304.266842, relative error: 9.011121e-12\n",
      "numerical: -304.266842 analytic: -304.266842, relative error: 9.011121e-12\n"
     ]
    }
   ],
   "source": [
    "loss, dw1, db1 = mse_loss_vectorized(w1, b1, X_train1, y_train1, alpha=0)\n",
    "\n",
    "sk_loss = mean_squared_error(X_train1 @ w1 + b1, y_train1)\n",
    "print(\"Loss error : \",rel_error(loss, sk_loss))\n",
    "assert rel_error(loss, sk_loss) < 1e-9\n",
    "\n",
    "print(\"Gradient check w\")\n",
    "# Check with numerical gradient w\n",
    "f = lambda w1: mse_loss_vectorized(w1, b1, X_train1, y_train1, alpha=0)[0]\n",
    "grad_numerical = grad_check_sparse(f, w1, dw1, 15,  error=1e-5)\n",
    "\n",
    "print(\"Gradient check bias\")\n",
    "# Check with numerical gradient b\n",
    "f2 = lambda b1: mse_loss_vectorized(w1, b1, X_train1, y_train1, alpha=0)[0]\n",
    "grad_numerical = grad_check_sparse(f2, b1, db1, 15,  error=1e-5)"
   ]
  },
  {
   "cell_type": "markdown",
   "id": "27c8575f",
   "metadata": {},
   "source": [
    "## Vectorized ridge regression loss"
   ]
  },
  {
   "cell_type": "code",
   "execution_count": 8,
   "id": "6aa107f7",
   "metadata": {
    "deletable": false,
    "editable": false,
    "nbgrader": {
     "cell_type": "code",
     "checksum": "89b351bee282f05c3f74c9541b3a825e",
     "grade": true,
     "grade_id": "cell-bb0ff99c19a85e0f",
     "locked": true,
     "points": 1,
     "schema_version": 3,
     "solution": false,
     "task": false
    }
   },
   "outputs": [
    {
     "name": "stdout",
     "output_type": "stream",
     "text": [
      "Gradient check w\n",
      "numerical: -1.376194 analytic: -1.376194, relative error: 1.657341e-08\n",
      "numerical: 2.891983 analytic: 2.891983, relative error: 3.512068e-08\n",
      "numerical: 2.891983 analytic: 2.891983, relative error: 3.512068e-08\n",
      "numerical: -1.376194 analytic: -1.376194, relative error: 1.657341e-08\n",
      "numerical: -1.376194 analytic: -1.376194, relative error: 1.657341e-08\n",
      "numerical: -3.234312 analytic: -3.234311, relative error: 3.463891e-08\n",
      "numerical: -1.553215 analytic: -1.553215, relative error: 2.534317e-08\n",
      "numerical: 2.891983 analytic: 2.891983, relative error: 3.512068e-08\n",
      "numerical: -3.153151 analytic: -3.153151, relative error: 7.254775e-09\n",
      "numerical: 2.891983 analytic: 2.891983, relative error: 3.512068e-08\n",
      "numerical: -3.234312 analytic: -3.234311, relative error: 3.463891e-08\n",
      "numerical: -2.802184 analytic: -2.802184, relative error: 2.599108e-08\n",
      "numerical: -3.153151 analytic: -3.153151, relative error: 7.254775e-09\n",
      "numerical: -3.153151 analytic: -3.153151, relative error: 7.254775e-09\n",
      "numerical: -0.315764 analytic: -0.315765, relative error: 4.146913e-07\n",
      "Gradient check bias\n",
      "numerical: -304.266842 analytic: -304.266842, relative error: 9.011121e-12\n",
      "numerical: -304.266842 analytic: -304.266842, relative error: 9.011121e-12\n",
      "numerical: -304.266842 analytic: -304.266842, relative error: 9.011121e-12\n",
      "numerical: -304.266842 analytic: -304.266842, relative error: 9.011121e-12\n",
      "numerical: -304.266842 analytic: -304.266842, relative error: 9.011121e-12\n",
      "numerical: -304.266842 analytic: -304.266842, relative error: 9.011121e-12\n",
      "numerical: -304.266842 analytic: -304.266842, relative error: 9.011121e-12\n",
      "numerical: -304.266842 analytic: -304.266842, relative error: 9.011121e-12\n",
      "numerical: -304.266842 analytic: -304.266842, relative error: 9.011121e-12\n",
      "numerical: -304.266842 analytic: -304.266842, relative error: 9.011121e-12\n",
      "numerical: -304.266842 analytic: -304.266842, relative error: 9.011121e-12\n",
      "numerical: -304.266842 analytic: -304.266842, relative error: 9.011121e-12\n",
      "numerical: -304.266842 analytic: -304.266842, relative error: 9.011121e-12\n",
      "numerical: -304.266842 analytic: -304.266842, relative error: 9.011121e-12\n",
      "numerical: -304.266842 analytic: -304.266842, relative error: 9.011121e-12\n"
     ]
    }
   ],
   "source": [
    "loss, dw1, db1 = mse_loss_vectorized(w1, b1, X_train1, y_train1, alpha=1)\n",
    "\n",
    "print(\"Gradient check w\")\n",
    "# Check with numerical gradient w\n",
    "f = lambda w1: mse_loss_vectorized(w1, b1, X_train1, y_train1, alpha=1)[0]\n",
    "grad_numerical = grad_check_sparse(f, w1, dw1, 15,  error=1e-5)\n",
    "\n",
    "print(\"Gradient check bias\")\n",
    "# Check with numerical gradient b\n",
    "f2 = lambda b1: mse_loss_vectorized(w1, b1, X_train1, y_train1, alpha=1)[0]\n",
    "grad_numerical = grad_check_sparse(f2, b1, db1, 15,  error=1e-5)"
   ]
  },
  {
   "cell_type": "markdown",
   "id": "c3c7ae33",
   "metadata": {},
   "source": [
    "# Logistic regression"
   ]
  },
  {
   "cell_type": "code",
   "execution_count": 9,
   "id": "bb6d1eb4",
   "metadata": {
    "deletable": false,
    "editable": false,
    "nbgrader": {
     "cell_type": "code",
     "checksum": "fd86b658f3ec113c00c2ee2e195f550f",
     "grade": false,
     "grade_id": "cell-434ec399cf8aeea7",
     "locked": true,
     "schema_version": 3,
     "solution": false,
     "task": false
    }
   },
   "outputs": [],
   "source": [
    "def sigmoid(z):\n",
    "    return 1 / (1 + np.exp(-z))\n",
    "\n",
    "data = load_breast_cancer()\n",
    "X_train2, y_train2 = data.data, data.target\n",
    "w2 = np.random.randn(X_train2.shape[1]) * 0.0001\n",
    "b2 = np.random.randn(1) * 0.0001"
   ]
  },
  {
   "cell_type": "markdown",
   "id": "d97e5d16",
   "metadata": {},
   "source": [
    "# Naive"
   ]
  },
  {
   "cell_type": "code",
   "execution_count": 10,
   "id": "4690c331",
   "metadata": {
    "deletable": false,
    "nbgrader": {
     "cell_type": "code",
     "checksum": "a4357b941a04e6dc51a2683b7f4d91ed",
     "grade": false,
     "grade_id": "cell-6ec156568b0c6e29",
     "locked": false,
     "schema_version": 3,
     "solution": true,
     "task": false
    }
   },
   "outputs": [],
   "source": [
    "def log_loss_naive(w, b, X, y, alpha=0):\n",
    "    \"\"\"\n",
    "    log loss function WITH FOR LOOPs\n",
    "    \n",
    "    Returns a tuple of:\n",
    "    - loss \n",
    "    - gradient with respect to weights w\n",
    "    \"\"\"\n",
    "    loss = 0.0\n",
    "    dw = np.zeros_like(w)\n",
    "    db = 0.0\n",
    "    \n",
    "    ## We try to minimize the NLL\n",
    "    n = X.shape[0]\n",
    "    for i in range(0, n) :\n",
    "        loss += -(y[i]*np.log(sigmoid((w.T)@X[i] +b)) + (1 - y[i]) * np.log(1 - sigmoid((w.T)@X[i] +b)))/n\n",
    "        ## now we have €(y - ŷ)/n, ŷ is our estimator. This is what we will derivate\n",
    "        dw += -1.0 * X[i] * (y[i] - sigmoid(w.T@X[i] + b))/n\n",
    "        ## derivate p/r b\n",
    "        db += -1.0 * (y[i] - sigmoid(w.T@X[i] +b))/n\n",
    "        \n",
    "    ## we know just add the regularisation\n",
    "    loss += alpha * (np.linalg.norm(w, 2))**2\n",
    "    dw += alpha * 2.0 * w\n",
    "    \n",
    "    return loss, dw, np.array(db).reshape(1,)"
   ]
  },
  {
   "cell_type": "code",
   "execution_count": 11,
   "id": "f54b1bca",
   "metadata": {
    "deletable": false,
    "editable": false,
    "nbgrader": {
     "cell_type": "code",
     "checksum": "70d2045a5dac4c5a041dc8595cd5a39f",
     "grade": true,
     "grade_id": "cell-d3c078eb2449ee61",
     "locked": true,
     "points": 1,
     "schema_version": 3,
     "solution": false,
     "task": false
    }
   },
   "outputs": [
    {
     "name": "stdout",
     "output_type": "stream",
     "text": [
      "Loss error :  7.932873593299985e-17\n",
      "Gradient check w\n",
      "numerical: 0.254800 analytic: 0.254800, relative error: 3.670747e-11\n",
      "numerical: -1.176088 analytic: -1.176088, relative error: 6.895618e-10\n",
      "numerical: 1.656584 analytic: 1.656584, relative error: 1.348834e-07\n",
      "numerical: -1.357751 analytic: -1.357751, relative error: 1.411603e-09\n",
      "numerical: -0.014877 analytic: -0.014877, relative error: 6.327419e-10\n",
      "numerical: -0.009420 analytic: -0.009420, relative error: 1.572024e-09\n",
      "numerical: -0.000137 analytic: -0.000137, relative error: 1.692007e-07\n",
      "numerical: -0.000853 analytic: -0.000853, relative error: 5.637248e-09\n",
      "numerical: 0.038725 analytic: 0.038725, relative error: 4.502079e-10\n",
      "numerical: -0.000014 analytic: -0.000014, relative error: 7.316749e-08\n",
      "numerical: -0.000853 analytic: -0.000853, relative error: 5.637248e-09\n",
      "numerical: -0.002223 analytic: -0.002223, relative error: 3.514353e-09\n",
      "numerical: 0.000373 analytic: 0.000373, relative error: 2.004225e-08\n",
      "numerical: -0.014877 analytic: -0.014877, relative error: 6.327419e-10\n",
      "numerical: -0.002223 analytic: -0.002223, relative error: 3.514353e-09\n",
      "Gradient check bias\n",
      "numerical: -0.106545 analytic: -0.106545, relative error: 2.949274e-11\n",
      "numerical: -0.106545 analytic: -0.106545, relative error: 2.949274e-11\n",
      "numerical: -0.106545 analytic: -0.106545, relative error: 2.949274e-11\n",
      "numerical: -0.106545 analytic: -0.106545, relative error: 2.949274e-11\n",
      "numerical: -0.106545 analytic: -0.106545, relative error: 2.949274e-11\n",
      "numerical: -0.106545 analytic: -0.106545, relative error: 2.949274e-11\n",
      "numerical: -0.106545 analytic: -0.106545, relative error: 2.949274e-11\n",
      "numerical: -0.106545 analytic: -0.106545, relative error: 2.949274e-11\n",
      "numerical: -0.106545 analytic: -0.106545, relative error: 2.949274e-11\n",
      "numerical: -0.106545 analytic: -0.106545, relative error: 2.949274e-11\n",
      "numerical: -0.106545 analytic: -0.106545, relative error: 2.949274e-11\n",
      "numerical: -0.106545 analytic: -0.106545, relative error: 2.949274e-11\n",
      "numerical: -0.106545 analytic: -0.106545, relative error: 2.949274e-11\n",
      "numerical: -0.106545 analytic: -0.106545, relative error: 2.949274e-11\n",
      "numerical: -0.106545 analytic: -0.106545, relative error: 2.949274e-11\n"
     ]
    }
   ],
   "source": [
    "y_pred_0 = sigmoid(X_train2 @ w2 + b2)\n",
    "y_pred = np.vstack([1-y_pred_0, y_pred_0]).T\n",
    "sk_loss = log_loss(y_train2, y_pred)\n",
    "\n",
    "loss, dw2, db2 = log_loss_naive(w2, b2, X_train2, y_train2, alpha=0)\n",
    "print(\"Loss error : \",rel_error(loss, sk_loss))\n",
    "assert rel_error(loss, sk_loss) < 1e-9\n",
    "\n",
    "print(\"Gradient check w\")\n",
    "# Check with numerical gradient w\n",
    "f = lambda w2: log_loss_naive(w2, b2, X_train2, y_train2, alpha=0)[0]\n",
    "grad_numerical = grad_check_sparse(f, w2, dw2, 15, error=1e-4)\n",
    "\n",
    "print(\"Gradient check bias\")\n",
    "# Check with numerical gradient b\n",
    "f2 = lambda b2: log_loss_naive(w2, b2, X_train2, y_train2, alpha=0)[0]\n",
    "grad_numerical = grad_check_sparse(f2, b2, db2, 15,  error=1e-5)"
   ]
  },
  {
   "cell_type": "markdown",
   "id": "5e1e8516",
   "metadata": {},
   "source": [
    "# Naive with regulariztion"
   ]
  },
  {
   "cell_type": "code",
   "execution_count": 12,
   "id": "79f6f9a6",
   "metadata": {
    "deletable": false,
    "editable": false,
    "nbgrader": {
     "cell_type": "code",
     "checksum": "cb3c9584e2ca3502e5068d5c1ee2df96",
     "grade": true,
     "grade_id": "cell-b91805308ad91ec5",
     "locked": true,
     "points": 1,
     "schema_version": 3,
     "solution": false,
     "task": false
    }
   },
   "outputs": [
    {
     "name": "stdout",
     "output_type": "stream",
     "text": [
      "Gradient check w\n",
      "numerical: -0.132400 analytic: -0.132400, relative error: 9.125702e-11\n",
      "numerical: 54.836623 analytic: 54.836834, relative error: 1.922027e-06\n",
      "numerical: 0.134457 analytic: 0.134457, relative error: 5.567892e-09\n",
      "numerical: -0.006357 analytic: -0.006357, relative error: 1.522647e-11\n",
      "numerical: -0.007658 analytic: -0.007658, relative error: 3.460394e-09\n",
      "numerical: 114.399993 analytic: 114.400688, relative error: 3.036722e-06\n",
      "numerical: -0.002199 analytic: -0.002199, relative error: 3.695042e-09\n",
      "numerical: 0.000045 analytic: 0.000045, relative error: 4.308547e-08\n",
      "numerical: -0.000273 analytic: -0.000273, relative error: 1.728816e-08\n",
      "numerical: -1.357701 analytic: -1.357701, relative error: 1.410159e-09\n",
      "numerical: 114.399993 analytic: 114.400688, relative error: 3.036722e-06\n",
      "numerical: -0.018684 analytic: -0.018684, relative error: 1.407187e-10\n",
      "numerical: 0.000045 analytic: 0.000045, relative error: 4.308547e-08\n",
      "numerical: -0.000328 analytic: -0.000328, relative error: 6.893644e-08\n",
      "numerical: -0.007658 analytic: -0.007658, relative error: 3.460394e-09\n",
      "Gradient check bias\n",
      "numerical: -0.106545 analytic: -0.106545, relative error: 2.949274e-11\n",
      "numerical: -0.106545 analytic: -0.106545, relative error: 2.949274e-11\n",
      "numerical: -0.106545 analytic: -0.106545, relative error: 2.949274e-11\n",
      "numerical: -0.106545 analytic: -0.106545, relative error: 2.949274e-11\n",
      "numerical: -0.106545 analytic: -0.106545, relative error: 2.949274e-11\n",
      "numerical: -0.106545 analytic: -0.106545, relative error: 2.949274e-11\n",
      "numerical: -0.106545 analytic: -0.106545, relative error: 2.949274e-11\n",
      "numerical: -0.106545 analytic: -0.106545, relative error: 2.949274e-11\n",
      "numerical: -0.106545 analytic: -0.106545, relative error: 2.949274e-11\n",
      "numerical: -0.106545 analytic: -0.106545, relative error: 2.949274e-11\n",
      "numerical: -0.106545 analytic: -0.106545, relative error: 2.949274e-11\n",
      "numerical: -0.106545 analytic: -0.106545, relative error: 2.949274e-11\n",
      "numerical: -0.106545 analytic: -0.106545, relative error: 2.949274e-11\n",
      "numerical: -0.106545 analytic: -0.106545, relative error: 2.949274e-11\n",
      "numerical: -0.106545 analytic: -0.106545, relative error: 2.949274e-11\n"
     ]
    }
   ],
   "source": [
    "loss, dw2, db2 = log_loss_naive(w2, b2, X_train2, y_train2, alpha=1)\n",
    "\n",
    "print(\"Gradient check w\")\n",
    "# Check with numerical gradient w\n",
    "f = lambda w2: log_loss_naive(w2, b2, X_train2, y_train2, alpha=1)[0]\n",
    "grad_numerical = grad_check_sparse(f, w2, dw2, 15, error=1e-4)\n",
    "\n",
    "print(\"Gradient check bias\")\n",
    "# Check with numerical gradient b\n",
    "f2 = lambda b2: log_loss_naive(w2, b2, X_train2, y_train2, alpha=1)[0]\n",
    "grad_numerical = grad_check_sparse(f2, b2, db2, 15,  error=1e-5)"
   ]
  },
  {
   "cell_type": "markdown",
   "id": "31564092",
   "metadata": {},
   "source": [
    "# Vectorized"
   ]
  },
  {
   "cell_type": "code",
   "execution_count": 13,
   "id": "fc5084e9",
   "metadata": {
    "deletable": false,
    "nbgrader": {
     "cell_type": "code",
     "checksum": "6f452aaa24d69e2257c0851d750fd4aa",
     "grade": false,
     "grade_id": "cell-a96e9a6d51919ffc",
     "locked": false,
     "schema_version": 3,
     "solution": true,
     "task": false
    }
   },
   "outputs": [],
   "source": [
    "def log_loss_vectorized(w, b,X, y, alpha=0):\n",
    "    \"\"\"\n",
    "    log loss function WITHOUT FOR LOOPs\n",
    "    \n",
    "    Returns a tuple of:\n",
    "    - loss \n",
    "    - gradient with respect to weights w\n",
    "    \"\"\"\n",
    "    loss = 0.0\n",
    "    dw = np.zeros_like(w)\n",
    "    \n",
    "    # YOUR CODE HERE\n",
    "    n = len(X)\n",
    "    \n",
    "    loss = -(y @ np.log(sigmoid(X@w + b)) + (1 - y) @ np.log(1 - sigmoid(X@w +b)))/n + alpha * (np.linalg.norm(w, 2))**2\n",
    "    ## now we have €(y - ŷ)/n, ŷ is our estimator. This is what we will derivate\n",
    "    dw = -((y - sigmoid(X@w + b))@X)/n + alpha * 2.0 * w\n",
    "    ## derivate p/r b\n",
    "    db = -(y - sigmoid(X@w +b))/n\n",
    "        \n",
    "    db = sum(db)\n",
    "    return loss, dw, np.array(db).reshape(1,)"
   ]
  },
  {
   "cell_type": "code",
   "execution_count": 14,
   "id": "c425e768",
   "metadata": {
    "deletable": false,
    "editable": false,
    "nbgrader": {
     "cell_type": "code",
     "checksum": "f415c75f4653f455eeeccba9f7ad1676",
     "grade": true,
     "grade_id": "cell-ca14e49ada130789",
     "locked": true,
     "points": 1,
     "schema_version": 3,
     "solution": false,
     "task": false
    }
   },
   "outputs": [
    {
     "name": "stdout",
     "output_type": "stream",
     "text": [
      "Loss error :  0.0\n",
      "Gradient check w\n",
      "numerical: -0.000014 analytic: -0.000014, relative error: 1.198490e-07\n",
      "numerical: -0.000137 analytic: -0.000137, relative error: 6.883540e-09\n",
      "numerical: 0.035161 analytic: 0.035161, relative error: 9.263771e-12\n",
      "numerical: -0.000137 analytic: -0.000137, relative error: 6.883540e-09\n",
      "numerical: 8.172051 analytic: 8.172051, relative error: 2.758747e-08\n",
      "numerical: 0.035161 analytic: 0.035161, relative error: 9.263771e-12\n",
      "numerical: -0.014877 analytic: -0.014877, relative error: 1.135105e-10\n",
      "numerical: -0.002223 analytic: -0.002223, relative error: 1.481024e-09\n",
      "numerical: -0.006116 analytic: -0.006116, relative error: 8.359535e-11\n",
      "numerical: -0.006758 analytic: -0.006758, relative error: 4.661578e-10\n",
      "numerical: -0.014877 analytic: -0.014877, relative error: 1.135105e-10\n",
      "numerical: -1.176088 analytic: -1.176088, relative error: 6.824826e-10\n",
      "numerical: 0.009716 analytic: 0.009716, relative error: 5.517795e-11\n",
      "numerical: -1.357751 analytic: -1.357751, relative error: 1.415691e-09\n",
      "numerical: -0.222043 analytic: -0.222043, relative error: 1.929397e-09\n",
      "Gradient check bias\n",
      "numerical: -0.106545 analytic: -0.106545, relative error: 2.260825e-11\n",
      "numerical: -0.106545 analytic: -0.106545, relative error: 2.260825e-11\n",
      "numerical: -0.106545 analytic: -0.106545, relative error: 2.260825e-11\n",
      "numerical: -0.106545 analytic: -0.106545, relative error: 2.260825e-11\n",
      "numerical: -0.106545 analytic: -0.106545, relative error: 2.260825e-11\n",
      "numerical: -0.106545 analytic: -0.106545, relative error: 2.260825e-11\n",
      "numerical: -0.106545 analytic: -0.106545, relative error: 2.260825e-11\n",
      "numerical: -0.106545 analytic: -0.106545, relative error: 2.260825e-11\n",
      "numerical: -0.106545 analytic: -0.106545, relative error: 2.260825e-11\n",
      "numerical: -0.106545 analytic: -0.106545, relative error: 2.260825e-11\n",
      "numerical: -0.106545 analytic: -0.106545, relative error: 2.260825e-11\n",
      "numerical: -0.106545 analytic: -0.106545, relative error: 2.260825e-11\n",
      "numerical: -0.106545 analytic: -0.106545, relative error: 2.260825e-11\n",
      "numerical: -0.106545 analytic: -0.106545, relative error: 2.260825e-11\n",
      "numerical: -0.106545 analytic: -0.106545, relative error: 2.260825e-11\n"
     ]
    }
   ],
   "source": [
    "y_pred_0 = sigmoid(X_train2 @ w2 + b2)\n",
    "y_pred = np.vstack([1-y_pred_0, y_pred_0]).T\n",
    "sk_loss = log_loss(y_train2, y_pred)\n",
    "\n",
    "loss, dw2, db2 = log_loss_vectorized(w2, b2, X_train2, y_train2, alpha=0)\n",
    "print(\"Loss error : \",rel_error(loss, sk_loss))\n",
    "assert rel_error(loss, sk_loss) < 1e-9\n",
    "\n",
    "print(\"Gradient check w\")\n",
    "# Check with numerical gradient w\n",
    "f = lambda w2: log_loss_vectorized(w2, b2, X_train2, y_train2, alpha=0)[0]\n",
    "grad_numerical = grad_check_sparse(f, w2, dw2, 15, error=1e-4)\n",
    "\n",
    "print(\"Gradient check bias\")\n",
    "# Check with numerical gradient b\n",
    "f2 = lambda b2: log_loss_vectorized(w2, b2, X_train2, y_train2, alpha=0)[0]\n",
    "grad_numerical = grad_check_sparse(f2, b2, db2, 15,  error=1e-5)"
   ]
  },
  {
   "cell_type": "markdown",
   "id": "dc7be5da",
   "metadata": {},
   "source": [
    "# Vectorized with regularization"
   ]
  },
  {
   "cell_type": "code",
   "execution_count": 15,
   "id": "a4e09127",
   "metadata": {
    "deletable": false,
    "editable": false,
    "nbgrader": {
     "cell_type": "code",
     "checksum": "53e97adc2666d529eff9ba1abcd3756a",
     "grade": true,
     "grade_id": "cell-bce082fccf8b7057",
     "locked": true,
     "points": 1,
     "schema_version": 3,
     "solution": false,
     "task": false
    }
   },
   "outputs": [
    {
     "name": "stdout",
     "output_type": "stream",
     "text": [
      "Gradient check w\n",
      "numerical: 0.018616 analytic: 0.018616, relative error: 1.422181e-10\n",
      "numerical: -0.009281 analytic: -0.009281, relative error: 2.604544e-10\n",
      "numerical: -0.803784 analytic: -0.803784, relative error: 1.538774e-07\n",
      "numerical: 0.004286 analytic: 0.004286, relative error: 2.765300e-10\n",
      "numerical: 0.009535 analytic: 0.009535, relative error: 1.845363e-10\n",
      "numerical: 0.004286 analytic: 0.004286, relative error: 2.765300e-10\n",
      "numerical: 8.172028 analytic: 8.172028, relative error: 2.758749e-08\n",
      "numerical: 0.004286 analytic: 0.004286, relative error: 2.765300e-10\n",
      "numerical: -0.007190 analytic: -0.007190, relative error: 1.275775e-10\n",
      "numerical: -0.803784 analytic: -0.803784, relative error: 1.538774e-07\n",
      "numerical: 0.035317 analytic: 0.035317, relative error: 2.743879e-11\n",
      "numerical: 1.656522 analytic: 1.656523, relative error: 1.348887e-07\n",
      "numerical: 0.000045 analytic: 0.000045, relative error: 1.877652e-08\n",
      "numerical: -0.002199 analytic: -0.002199, relative error: 1.354741e-09\n",
      "numerical: -0.000273 analytic: -0.000273, relative error: 7.121135e-09\n",
      "Gradient check bias\n",
      "numerical: -0.106545 analytic: -0.106545, relative error: 2.260825e-11\n",
      "numerical: -0.106545 analytic: -0.106545, relative error: 2.260825e-11\n",
      "numerical: -0.106545 analytic: -0.106545, relative error: 2.260825e-11\n",
      "numerical: -0.106545 analytic: -0.106545, relative error: 2.260825e-11\n",
      "numerical: -0.106545 analytic: -0.106545, relative error: 2.260825e-11\n",
      "numerical: -0.106545 analytic: -0.106545, relative error: 2.260825e-11\n",
      "numerical: -0.106545 analytic: -0.106545, relative error: 2.260825e-11\n",
      "numerical: -0.106545 analytic: -0.106545, relative error: 2.260825e-11\n",
      "numerical: -0.106545 analytic: -0.106545, relative error: 2.260825e-11\n",
      "numerical: -0.106545 analytic: -0.106545, relative error: 2.260825e-11\n",
      "numerical: -0.106545 analytic: -0.106545, relative error: 2.260825e-11\n",
      "numerical: -0.106545 analytic: -0.106545, relative error: 2.260825e-11\n",
      "numerical: -0.106545 analytic: -0.106545, relative error: 2.260825e-11\n",
      "numerical: -0.106545 analytic: -0.106545, relative error: 2.260825e-11\n",
      "numerical: -0.106545 analytic: -0.106545, relative error: 2.260825e-11\n"
     ]
    }
   ],
   "source": [
    "loss, dw2, db2 = log_loss_vectorized(w2, b2, X_train2, y_train2, alpha=1)\n",
    "\n",
    "print(\"Gradient check w\")\n",
    "# Check with numerical gradient w\n",
    "f = lambda w2: log_loss_vectorized(w2, b2, X_train2, y_train2, alpha=1)[0]\n",
    "grad_numerical = grad_check_sparse(f, w2, dw2, 15, error=1e-4)\n",
    "\n",
    "print(\"Gradient check bias\")\n",
    "# Check with numerical gradient b\n",
    "f2 = lambda b2: log_loss_vectorized(w2, b2, X_train2, y_train2, alpha=1)[0]\n",
    "grad_numerical = grad_check_sparse(f2, b2, db2, 15,  error=1e-5)"
   ]
  },
  {
   "cell_type": "markdown",
   "id": "06403ea0",
   "metadata": {},
   "source": [
    "# Gradient descent for Linear models"
   ]
  },
  {
   "cell_type": "code",
   "execution_count": 16,
   "id": "5039af1c",
   "metadata": {
    "deletable": false,
    "nbgrader": {
     "cell_type": "code",
     "checksum": "9a1783db1a1f1898028260238567bed7",
     "grade": false,
     "grade_id": "cell-485e52c0efd4f4a9",
     "locked": false,
     "schema_version": 3,
     "solution": true,
     "task": false
    }
   },
   "outputs": [],
   "source": [
    "class LinearModel():\n",
    "    def __init__(self):\n",
    "        self.w = None\n",
    "        self.b = None\n",
    "\n",
    "    def train(self, X, y, learning_rate=1e-3, alpha=0, num_iters=100, batch_size=200, verbose=False):\n",
    "        N, d = X.shape\n",
    "        \n",
    "        if self.w is None: # Initialization\n",
    "            self.w = 0.001 * np.random.randn(d)\n",
    "            self.b = 0.0\n",
    "\n",
    "        # Run stochastic gradient descent to optimize w\n",
    "        \n",
    "        loss_history = []\n",
    "        for it in range(num_iters):\n",
    "            X_batch = None\n",
    "            y_batch = None\n",
    "                                                               \n",
    "            # Sample batch_size elements in X_batch and y_batch\n",
    "            # X_batch shape is  (batch_size, d) and y_batch shape is (batch_size,)                                                                                          \n",
    "            # Hint: Use np.random.choice to generate indices\n",
    "            \n",
    "            # YOUR CODE HERE\n",
    "            ## echantillonage\n",
    "            i = np.random.choice (X.shape[0], batch_size)\n",
    "            ## building matrix X and vector y\n",
    "            X_batch = X[i, :]\n",
    "            y_batch = y[i]\n",
    "            \n",
    "            # evaluate loss and gradient\n",
    "            loss, dw, db = self.loss(X_batch, y_batch, alpha)\n",
    "            loss_history.append(loss)\n",
    "\n",
    "            # perform parameter update                                                                \n",
    "            # Update the weights w and bias b using the gradient and the learning rate.          \n",
    "            self.w = self.w - learning_rate * dw\n",
    "            self.b = self.b - learning_rate * db\n",
    "            \n",
    "            if verbose and it % 10000 == 0:\n",
    "                print(\"iteration %d / %d: loss %f\" % (it, num_iters, loss))\n",
    "                \n",
    "        return loss_history\n",
    "\n",
    "    def predict(self, X):\n",
    "        pass\n",
    "\n",
    "    def loss(self, X_batch, y_batch, reg):\n",
    "        pass\n",
    "\n",
    "class LinearRegressor(LinearModel):\n",
    "    \"\"\" Linear regression \"\"\"\n",
    "\n",
    "    def loss(self, X_batch, y_batch, alpha):\n",
    "        return mse_loss_vectorized(self.w, self.b, X_batch, y_batch, alpha)\n",
    "    \n",
    "    def predict(self, X):\n",
    "        return X @ self.w + self.b\n",
    "\n",
    "class LogisticRegressor(LinearModel):\n",
    "    \"\"\" Linear regression \"\"\"\n",
    "\n",
    "    def loss(self, X_batch, y_batch, alpha):\n",
    "        return log_loss_vectorized(self.w, self.b, X_batch, y_batch, alpha)\n",
    "    \n",
    "    def predict(self, X):\n",
    "        \"\"\" Return prediction labels vector of 0 or 1 \"\"\"\n",
    "        ## We will return a vector here so let's create it 1st\n",
    "        result = np.zeros(X.shape[0])\n",
    "        for i in range (0, X.shape[0]) :\n",
    "            if X[i] @ np.transpose(self.w) + self.b <0 :\n",
    "                result[i] = 0\n",
    "            else :\n",
    "                result[i] = 1\n",
    "        return result"
   ]
  },
  {
   "cell_type": "markdown",
   "id": "7fa0aa79",
   "metadata": {},
   "source": [
    "## Linear regression with gradient descent"
   ]
  },
  {
   "cell_type": "code",
   "execution_count": 17,
   "id": "86925e00",
   "metadata": {
    "deletable": false,
    "editable": false,
    "nbgrader": {
     "cell_type": "code",
     "checksum": "30f1c271b16efe670214663c10743937",
     "grade": true,
     "grade_id": "cell-92f36a3b387a4277",
     "locked": true,
     "points": 2,
     "schema_version": 3,
     "solution": false,
     "task": false
    }
   },
   "outputs": [
    {
     "name": "stdout",
     "output_type": "stream",
     "text": [
      "iteration 0 / 75000: loss 28221.568565\n",
      "iteration 10000 / 75000: loss 3226.313993\n",
      "iteration 20000 / 75000: loss 3595.629244\n",
      "iteration 30000 / 75000: loss 2621.293205\n",
      "iteration 40000 / 75000: loss 2785.623011\n",
      "iteration 50000 / 75000: loss 2429.912983\n",
      "iteration 60000 / 75000: loss 2964.284588\n",
      "iteration 70000 / 75000: loss 2833.112901\n",
      "MSE scikit-learn: 2859.6903987680657\n",
      "MSE gradient descent model : 2884.131784792984\n"
     ]
    }
   ],
   "source": [
    "from sklearn.linear_model import LinearRegression\n",
    "\n",
    "sk_model = LinearRegression(fit_intercept=True)\n",
    "sk_model.fit(X_train1, y_train1)\n",
    "sk_pred = sk_model.predict(X_train1)\n",
    "sk_mse = mean_squared_error(sk_pred, y_train1)\n",
    "\n",
    "model = LinearRegressor()\n",
    "model.train(X_train1, y_train1, num_iters=75000, batch_size=64, learning_rate=1e-2, verbose=True)\n",
    "pred = model.predict(X_train1)\n",
    "mse = mean_squared_error(pred, y_train1)\n",
    "\n",
    "print(\"MSE scikit-learn:\", sk_mse)\n",
    "print(\"MSE gradient descent model :\", mse)\n",
    "assert mse - sk_mse < 100"
   ]
  },
  {
   "cell_type": "markdown",
   "id": "d17c54d8",
   "metadata": {},
   "source": [
    "## Logistc regression with gradient descent"
   ]
  },
  {
   "cell_type": "code",
   "execution_count": 18,
   "id": "9219f422",
   "metadata": {
    "deletable": false,
    "editable": false,
    "nbgrader": {
     "cell_type": "code",
     "checksum": "c6196155f76f4eded31fefce67a76d60",
     "grade": true,
     "grade_id": "cell-925a2ddb5c1ba7ff",
     "locked": true,
     "points": 2,
     "schema_version": 3,
     "solution": false,
     "task": false
    }
   },
   "outputs": [
    {
     "name": "stdout",
     "output_type": "stream",
     "text": [
      "iteration 0 / 75000: loss 0.693666\n",
      "iteration 10000 / 75000: loss 0.095463\n",
      "iteration 20000 / 75000: loss 0.111702\n",
      "iteration 30000 / 75000: loss 0.038658\n",
      "iteration 40000 / 75000: loss 0.166011\n",
      "iteration 50000 / 75000: loss 0.119933\n",
      "iteration 60000 / 75000: loss 0.043318\n",
      "iteration 70000 / 75000: loss 0.042446\n",
      "Log-loss scikit-learn: 0.4249086712816093\n",
      "Log-loss gradiet descent model : 0.4249086712816093\n",
      "Error : 0.0\n"
     ]
    }
   ],
   "source": [
    "from sklearn.linear_model import LogisticRegression\n",
    "from sklearn.preprocessing import StandardScaler\n",
    "\n",
    "scaler = StandardScaler()\n",
    "X_train2 = scaler.fit_transform(X_train2)\n",
    "\n",
    "sk_model = LogisticRegression(fit_intercept=True)\n",
    "sk_model.fit(X_train2, y_train2)\n",
    "sk_pred = sk_model.predict(X_train2)\n",
    "sk_log_loss = log_loss(sk_pred, y_train2)\n",
    "\n",
    "model = LogisticRegressor()\n",
    "model.train(X_train2, y_train2, num_iters=75000, batch_size=64, learning_rate=1e-3, verbose=True)\n",
    "pred = model.predict(X_train2)\n",
    "model_log_loss = log_loss(pred, y_train2)\n",
    "\n",
    "print(\"Log-loss scikit-learn:\", sk_log_loss)\n",
    "print(\"Log-loss gradiet descent model :\", model_log_loss)\n",
    "print(\"Error :\", rel_error(sk_log_loss, model_log_loss))\n",
    "assert rel_error(sk_log_loss, model_log_loss) < 1e-7"
   ]
  },
  {
   "cell_type": "code",
   "execution_count": null,
   "id": "396f7431",
   "metadata": {},
   "outputs": [],
   "source": []
  }
 ],
 "metadata": {
  "kernelspec": {
   "display_name": "Python 3 (ipykernel)",
   "language": "python",
   "name": "python3"
  },
  "language_info": {
   "codemirror_mode": {
    "name": "ipython",
    "version": 3
   },
   "file_extension": ".py",
   "mimetype": "text/x-python",
   "name": "python",
   "nbconvert_exporter": "python",
   "pygments_lexer": "ipython3",
   "version": "3.9.13"
  }
 },
 "nbformat": 4,
 "nbformat_minor": 5
}
