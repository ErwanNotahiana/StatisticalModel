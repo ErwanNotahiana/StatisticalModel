{
 "cells": [
  {
   "cell_type": "markdown",
   "id": "7c0139a5",
   "metadata": {},
   "source": [
    "Alohan'ny mamerina dia avereno atao Run ny notebook iray manontolo. Ny fanaovana azy dia redémarrena mihitsy ny kernel aloha (jereo menubar, safidio **Kernel$\\rightarrow$Restart Kernel and Run All Cells**).\n",
    "\n",
    "Izay misy hoe `YOUR CODE HERE` na \"YOUR ANSWER HERE\" ihany no fenoina. Afaka manampy cells vaovao raha ilaina. Aza adino ny mameno references eo ambany raha ilaina."
   ]
  },
  {
   "cell_type": "markdown",
   "id": "81250f4c",
   "metadata": {},
   "source": [
    "## References\n",
    "Eto ilay references rehetra no apetraka"
   ]
  },
  {
   "cell_type": "markdown",
   "id": "fe1cd0be",
   "metadata": {},
   "source": [
    "---"
   ]
  },
  {
   "cell_type": "code",
   "execution_count": 15,
   "id": "46325dc4-11c5-4f0c-b501-dac902481267",
   "metadata": {},
   "outputs": [],
   "source": [
    "import cvxpy as cp\n",
    "import pandas as pd\n",
    "import numpy as np\n",
    "from sklearn.datasets import load_diabetes\n",
    "from sklearn.kernel_ridge import KernelRidge\n",
    "from sklearn.linear_model import LinearRegression\n",
    "from sklearn.metrics import mean_squared_error\n",
    "\n",
    "def rel_error(x, y):\n",
    "    \"\"\" returns relative error \"\"\"\n",
    "    return np.max(np.abs(x - y) / (np.maximum(1e-8, np.abs(x) + np.abs(y))))\n",
    "\n",
    "data = load_diabetes()\n",
    "X_train, y_train = data.data, data.target"
   ]
  },
  {
   "cell_type": "markdown",
   "id": "4fddf034-c066-444b-bc49-0d869f8e06aa",
   "metadata": {},
   "source": [
    "# Linear Program\n",
    "\n",
    "The minimum amount of nutrients of a healthy diet is presented in the following table:\n",
    "|  Nutrient | Minimum recommended intake |  \n",
    "|---|---|\n",
    "|  Calories | 3 kcal  |  \n",
    "|  Protein | 70 g  |   \n",
    "|  Calcium | 0.8 g  |  \n",
    "|  Iron | 12 mg  | \n",
    "|  Vitamin A | 5000 IU  | \n",
    "|  Vitamin B1 | 1.8 mg  | \n",
    "|  Vitamin B2 | 2.7 mg  | \n",
    "|  Niacin | 18 mg  | \n",
    "|  Vitamin C | 75 mg  | \n",
    "\n",
    "Each row of the table in the *diet.csv* file presents the amount of nutrients present in one dollar worth of food. How many dollars should one spend on each food so that the total cost is minimum ?"
   ]
  },
  {
   "cell_type": "code",
   "execution_count": 20,
   "id": "ffe032f7-584d-46db-a4d1-508de0ce50b6",
   "metadata": {
    "deletable": false,
    "nbgrader": {
     "cell_type": "code",
     "checksum": "c685cd5d7830be2282d9ece2049b638b",
     "grade": false,
     "grade_id": "cell-36f73ab369548dc2",
     "locked": false,
     "schema_version": 3,
     "solution": true,
     "task": false
    }
   },
   "outputs": [
    {
     "name": "stdout",
     "output_type": "stream",
     "text": [
      "[-3.60028063e-02  4.46271168e-02 -1.17162415e+00  1.11110625e+00\n",
      "  4.39322296e-01  4.52836072e-01  6.13405497e-01 -3.33178293e-01\n",
      " -1.21776080e-01 -2.71668675e-01 -2.64346816e-02  3.95112359e+00\n",
      "  3.86688275e-01 -8.99007763e-01 -4.33023985e-01  3.50980271e+01\n",
      "  2.35743846e+01 -8.56248859e-01 -2.17840389e-01  1.49634013e+01\n",
      "  1.59794170e-01  2.95340327e+01  2.03539898e+01  1.17602846e+01\n",
      " -9.72046846e-01 -7.79880039e-01 -1.04973601e+00 -6.79676012e-01\n",
      " -3.43356640e-01 -5.48312405e-02 -3.98678577e-01 -2.97310731e-02\n",
      "  6.47888086e-01  3.81919321e-01  3.02521714e+00  6.80355486e-01\n",
      "  5.28281678e+00 -1.36769549e+00 -1.20788944e+00 -2.78833268e-01\n",
      " -6.12563329e-01 -4.70291297e-01 -6.81271772e-01 -3.43496034e-01\n",
      " -4.31078621e-01 -1.80232069e-01  2.65835073e+00 -2.33957279e+00\n",
      "  2.15040868e+00 -5.75312215e-01 -2.55834881e-01  8.31769893e-01\n",
      "  4.31343304e-01  2.74893589e+00  2.98123566e+00 -7.88768225e-01\n",
      " -9.23432586e-01 -5.46826413e-01 -1.15533834e+00  3.05464917e-01\n",
      " -4.64193155e-01 -3.15029620e-01 -2.23247620e-01  9.74834550e-01\n",
      "  1.69156923e+00 -5.66607118e-01 -3.23499261e-01 -7.76813646e-01\n",
      " -5.25809866e-01  2.63748800e-01 -1.54997501e-01 -1.29272520e+00\n",
      "  2.60710281e+00  1.34563578e+01  5.29996662e+00 -1.69554435e+00\n",
      "  3.55006342e+01]\n"
     ]
    }
   ],
   "source": [
    "df = pd.read_csv(\"diet.csv\", index_col=0)\n",
    "opt_solution = None\n",
    "\n",
    "## Convert the dataframe to numpy\n",
    "X = df.to_numpy()\n",
    "n = len(X)\n",
    "## Entering data\n",
    "cost = cp.Variable((n))\n",
    "R = np.array([3000, 70, 0.8, 12, 5000, 1.8, 2.7, 18, 75])\n",
    "funct = np.transpose(X) @ cost\n",
    "objective = cp.Minimize(cp.sum(funct))\n",
    "constraint = [funct >= R]\n",
    "problem = cp.Problem(objective, constraint)\n",
    "problem.solve()\n",
    "\n",
    "opt_solution = cost.value\n",
    "print(opt_solution)"
   ]
  },
  {
   "cell_type": "code",
   "execution_count": null,
   "id": "709d31d8-22e4-4d2d-bb8a-89d9886135dc",
   "metadata": {},
   "outputs": [],
   "source": [
    "df"
   ]
  },
  {
   "cell_type": "code",
   "execution_count": null,
   "id": "f9dcc747-df16-4da2-ad98-da5d49b28275",
   "metadata": {
    "deletable": false,
    "editable": false,
    "nbgrader": {
     "cell_type": "code",
     "checksum": "99445f1930f4d5a4e6b0ff81118bedaa",
     "grade": true,
     "grade_id": "cell-efdad2e3d376e010",
     "locked": true,
     "points": 4,
     "schema_version": 3,
     "solution": false,
     "task": false
    },
    "tags": []
   },
   "outputs": [],
   "source": []
  },
  {
   "cell_type": "markdown",
   "id": "3544cecd-9ab5-4e41-814b-2b6b3f6de92c",
   "metadata": {},
   "source": [
    "# Kernel Ridge Regression"
   ]
  },
  {
   "cell_type": "code",
   "execution_count": 12,
   "id": "d31a475e-a09e-4668-b0fe-78d4ebd339c7",
   "metadata": {
    "deletable": false,
    "nbgrader": {
     "cell_type": "code",
     "checksum": "c5b0c4715733278a49f39874fc066611",
     "grade": false,
     "grade_id": "cell-210d2ae0b70955f7",
     "locked": false,
     "schema_version": 3,
     "solution": true,
     "task": false
    }
   },
   "outputs": [],
   "source": [
    "def gaussian_kernel(x1, x2, sigma=1.0):\n",
    "    ## Here, we just have to implement the formula\n",
    "    return np.exp(-(np.linalg.norm(x1-x2)/sigma)**2/2)\n",
    "class KernelRidgeRegression():\n",
    "    def __init__(self, kernel, lambd=1.0):\n",
    "        self.lambd = lambd # regularization coefficient\n",
    "        self.alpha = None # dual variable\n",
    "        self.kernel = kernel # kernel function\n",
    "    \n",
    "    def fit(self, X, y):\n",
    "        n = len(X)\n",
    "        k = np.zeros((n, n))\n",
    "        I = self.lambd * np.eye(n)\n",
    "        for i, row in enumerate(k) :\n",
    "            for j, col in enumerate(np.transpose(k)) :\n",
    "                k[i,j]=self.kernel(X[i,:],X[j,:])\n",
    "                \n",
    "        a = k + I\n",
    "        # self.X = X\n",
    "        self.alpha = np.dot(y, np.linalg.inv(a))\n",
    "    def predict(self, X) :\n",
    "        n = len(X)\n",
    "        y_pred=np.zeros(n)\n",
    "        for outer_i, x_p in enumerate(X):\n",
    "            k = np.zeros(n)\n",
    "            for i, row in enumerate(k):\n",
    "                k[i]=self.kernel(x_p, X[i,:])\n",
    "            y_pred[outer_i] = np.dot(self.alpha, k)\n",
    "        return y_pred"
   ]
  },
  {
   "cell_type": "code",
   "execution_count": 13,
   "id": "7b1c7054-0d6f-43ab-94fa-6d2607a0d42f",
   "metadata": {
    "deletable": false,
    "editable": false,
    "nbgrader": {
     "cell_type": "code",
     "checksum": "9faf80a32ceda54b9dc748eb4045fcec",
     "grade": true,
     "grade_id": "cell-7d655e9354dd8a5a",
     "locked": true,
     "points": 4,
     "schema_version": 3,
     "solution": false,
     "task": false
    },
    "tags": []
   },
   "outputs": [
    {
     "name": "stdout",
     "output_type": "stream",
     "text": [
      "error:  7.175796734076663e-13\n",
      "prediction error:  0.0\n"
     ]
    }
   ],
   "source": [
    "kr = KernelRidgeRegression(kernel=gaussian_kernel)\n",
    "kr.fit(X_train,y_train)\n",
    "y_pred = kr.predict(X_train)\n",
    "\n",
    "sklearn_kr = KernelRidge(kernel=gaussian_kernel)\n",
    "sklearn_kr.fit(X_train,y_train)\n",
    "sklearn_y_pred = kr.predict(X_train)\n",
    "\n",
    "error = rel_error(kr.alpha, sklearn_kr.dual_coef_)\n",
    "print(\"error: \", error)\n",
    "assert error <= 1e-11\n",
    "\n",
    "error_pred = rel_error(y_pred, sklearn_y_pred)\n",
    "print(\"prediction error: \", error_pred)\n",
    "assert error_pred <= 1e-11"
   ]
  },
  {
   "cell_type": "markdown",
   "id": "13635bf3-2672-4cd8-a027-ee36ae8ff325",
   "metadata": {},
   "source": [
    "# Non-negative Linear Regression"
   ]
  },
  {
   "cell_type": "code",
   "execution_count": 47,
   "id": "043d9306-82f9-4fb7-b0f0-3c3d140edc30",
   "metadata": {
    "deletable": false,
    "nbgrader": {
     "cell_type": "code",
     "checksum": "94da84f06c7b1f904e1a0c6bef2e101f",
     "grade": false,
     "grade_id": "cell-37e7efb4bf96fe1a",
     "locked": false,
     "schema_version": 3,
     "solution": true,
     "task": false
    },
    "tags": []
   },
   "outputs": [],
   "source": [
    "class NonNegativeLinearRegression:\n",
    "    def __init__(self, fit_intercept=True):\n",
    "        self.w = None\n",
    "        self.fit_intercept = fit_intercept\n",
    "    \n",
    "    def fit(self, X, y):\n",
    "        if self.fit_intercept :\n",
    "            ## inserting a column of 1 in the features matrix\n",
    "            X = np.insert(X, 0, 1, axis=1)\n",
    "    \n",
    "        w = cp.Variable(X.shape[1])\n",
    "        \n",
    "        objective = cp.Minimize(cp.norm2(X @ w - y)**2)\n",
    "        constraint = [w >= 0]\n",
    "\n",
    "        prob = cp.Problem(objective, constraint)\n",
    "        prob.solve()\n",
    "        \n",
    "        self.w = w.value\n",
    "    def predict(self, X):\n",
    "        if self.fit_intercept :\n",
    "            ## inserting a column of 1 in the features matrix\n",
    "            X = np.insert(X, 0, 1, axis=1)\n",
    "        return np.dot(X, self.w)"
   ]
  },
  {
   "cell_type": "code",
   "execution_count": 48,
   "id": "7a949471-582b-493c-bfab-836da2646535",
   "metadata": {
    "deletable": false,
    "editable": false,
    "nbgrader": {
     "cell_type": "code",
     "checksum": "8917c314e70ebfe96ae668660973e17f",
     "grade": true,
     "grade_id": "cell-b1a1983846be3759",
     "locked": true,
     "points": 4,
     "schema_version": 3,
     "solution": false,
     "task": false
    },
    "tags": []
   },
   "outputs": [
    {
     "name": "stderr",
     "output_type": "stream",
     "text": [
      "/home/erwan/anaconda3/lib/python3.9/site-packages/cvxpy/problems/problem.py:1337: UserWarning: Solution may be inaccurate. Try another solver, adjusting the solver settings, or solve with verbose=True for more information.\n",
      "  warnings.warn(\n"
     ]
    },
    {
     "name": "stdout",
     "output_type": "stream",
     "text": [
      "MSE scikit-learn: 3074.1764671803744\n",
      "MSE gradient descent model : 3270.2469192152057\n"
     ]
    }
   ],
   "source": [
    "nnlr = NonNegativeLinearRegression(fit_intercept=True)\n",
    "nnlr.fit(X_train,y_train)\n",
    "y_pred = kr.predict(X_train)\n",
    "mse = mean_squared_error(y_pred, y_train)\n",
    "\n",
    "sk_model = LinearRegression(fit_intercept=True, positive=True)\n",
    "sk_model.fit(X_train, y_train)\n",
    "sk_pred = sk_model.predict(X_train)\n",
    "sk_mse = mean_squared_error(sk_pred, y_train)\n",
    "\n",
    "print(\"MSE scikit-learn:\", sk_mse)\n",
    "print(\"MSE gradient descent model :\", mse)\n",
    "assert mse - sk_mse < 200"
   ]
  },
  {
   "cell_type": "code",
   "execution_count": null,
   "id": "dba8c843",
   "metadata": {},
   "outputs": [],
   "source": []
  }
 ],
 "metadata": {
  "kernelspec": {
   "display_name": "Python 3 (ipykernel)",
   "language": "python",
   "name": "python3"
  },
  "language_info": {
   "codemirror_mode": {
    "name": "ipython",
    "version": 3
   },
   "file_extension": ".py",
   "mimetype": "text/x-python",
   "name": "python",
   "nbconvert_exporter": "python",
   "pygments_lexer": "ipython3",
   "version": "3.9.13"
  }
 },
 "nbformat": 4,
 "nbformat_minor": 5
}
